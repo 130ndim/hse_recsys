{
 "cells": [
  {
   "cell_type": "code",
   "execution_count": 18,
   "id": "4321700e",
   "metadata": {},
   "outputs": [],
   "source": [
    "import pickle\n",
    "\n",
    "import lightgbm as lgb\n",
    "import numpy as np\n",
    "import pandas as pd\n",
    "\n",
    "from sklearn.model_selection import KFold\n",
    "from sklearn.metrics import roc_auc_score"
   ]
  },
  {
   "cell_type": "code",
   "execution_count": 2,
   "id": "8526e8b6",
   "metadata": {},
   "outputs": [],
   "source": [
    "df = pd.read_parquet('./data/featurized.parquet')"
   ]
  },
  {
   "cell_type": "code",
   "execution_count": 3,
   "id": "a4a01ea5",
   "metadata": {},
   "outputs": [],
   "source": [
    "X = df.iloc[:, :-1]\n",
    "y = df.iloc[:, -1]"
   ]
  },
  {
   "cell_type": "code",
   "execution_count": 4,
   "id": "1f31ed59",
   "metadata": {},
   "outputs": [],
   "source": [
    "# LGB params from kaggle\n",
    "params = {\n",
    "    'objective': 'binary',\n",
    "    'boosting': 'gbdt',\n",
    "    'learning_rate': 0.2 ,\n",
    "    'verbose': 0,\n",
    "    'num_leaves': 100,\n",
    "    'bagging_fraction': 0.95,\n",
    "    'bagging_freq': 1,\n",
    "    'bagging_seed': 1,\n",
    "    'feature_fraction': 0.9,\n",
    "    'feature_fraction_seed': 1,\n",
    "    'max_bin': 256,\n",
    "    'num_rounds': 100,\n",
    "    'metric' : 'auc'\n",
    "}"
   ]
  },
  {
   "cell_type": "code",
   "execution_count": 9,
   "id": "c1f18b6b",
   "metadata": {
    "scrolled": false
   },
   "outputs": [
    {
     "name": "stderr",
     "output_type": "stream",
     "text": [
      "/Users/dmitry/.conda/envs/hse_recsys/lib/python3.9/site-packages/lightgbm/engine.py:177: UserWarning: Found `num_rounds` in params. Will use it instead of argument\n",
      "  _log_warning(f\"Found `{alias}` in params. Will use it instead of argument\")\n",
      "/Users/dmitry/.conda/envs/hse_recsys/lib/python3.9/site-packages/lightgbm/engine.py:181: UserWarning: 'early_stopping_rounds' argument is deprecated and will be removed in a future release of LightGBM. Pass 'early_stopping()' callback via 'callbacks' argument instead.\n",
      "  _log_warning(\"'early_stopping_rounds' argument is deprecated and will be removed in a future release of LightGBM. \"\n",
      "/Users/dmitry/.conda/envs/hse_recsys/lib/python3.9/site-packages/lightgbm/engine.py:239: UserWarning: 'verbose_eval' argument is deprecated and will be removed in a future release of LightGBM. Pass 'log_evaluation()' callback via 'callbacks' argument instead.\n",
      "  _log_warning(\"'verbose_eval' argument is deprecated and will be removed in a future release of LightGBM. \"\n"
     ]
    },
    {
     "name": "stdout",
     "output_type": "stream",
     "text": [
      "[LightGBM] [Warning] Auto-choosing row-wise multi-threading, the overhead of testing was 0.279278 seconds.\n",
      "You can set `force_row_wise=true` to remove the overhead.\n",
      "And if memory is not enough, you can set `force_col_wise=true`.\n"
     ]
    },
    {
     "name": "stderr",
     "output_type": "stream",
     "text": [
      "/Users/dmitry/.conda/envs/hse_recsys/lib/python3.9/site-packages/lightgbm/basic.py:1780: UserWarning: Overriding the parameters from Reference Dataset.\n",
      "  _log_warning('Overriding the parameters from Reference Dataset.')\n",
      "/Users/dmitry/.conda/envs/hse_recsys/lib/python3.9/site-packages/lightgbm/basic.py:1513: UserWarning: categorical_column in param dict is overridden.\n",
      "  _log_warning(f'{cat_alias} in param dict is overridden.')\n"
     ]
    },
    {
     "name": "stdout",
     "output_type": "stream",
     "text": [
      "Training until validation scores don't improve for 25 rounds\n",
      "[5]\tvalid_0's auc: 0.735304\n",
      "[10]\tvalid_0's auc: 0.749804\n",
      "[15]\tvalid_0's auc: 0.760779\n",
      "[20]\tvalid_0's auc: 0.769853\n",
      "[25]\tvalid_0's auc: 0.775135\n",
      "[30]\tvalid_0's auc: 0.780003\n",
      "[35]\tvalid_0's auc: 0.782621\n",
      "[40]\tvalid_0's auc: 0.785615\n",
      "[45]\tvalid_0's auc: 0.788041\n",
      "[50]\tvalid_0's auc: 0.789811\n",
      "[55]\tvalid_0's auc: 0.792023\n",
      "[60]\tvalid_0's auc: 0.793357\n",
      "[65]\tvalid_0's auc: 0.795003\n",
      "[70]\tvalid_0's auc: 0.79588\n",
      "[75]\tvalid_0's auc: 0.796627\n",
      "[80]\tvalid_0's auc: 0.797364\n",
      "[85]\tvalid_0's auc: 0.798325\n",
      "[90]\tvalid_0's auc: 0.798783\n",
      "[95]\tvalid_0's auc: 0.799573\n",
      "[100]\tvalid_0's auc: 0.800103\n",
      "Did not meet early stopping. Best iteration is:\n",
      "[100]\tvalid_0's auc: 0.800103\n",
      "[LightGBM] [Warning] Auto-choosing row-wise multi-threading, the overhead of testing was 0.337284 seconds.\n",
      "You can set `force_row_wise=true` to remove the overhead.\n",
      "And if memory is not enough, you can set `force_col_wise=true`.\n",
      "Training until validation scores don't improve for 25 rounds\n",
      "[5]\tvalid_0's auc: 0.73486\n",
      "[10]\tvalid_0's auc: 0.749639\n",
      "[15]\tvalid_0's auc: 0.760135\n",
      "[20]\tvalid_0's auc: 0.769177\n",
      "[25]\tvalid_0's auc: 0.77565\n",
      "[30]\tvalid_0's auc: 0.779608\n",
      "[35]\tvalid_0's auc: 0.782903\n",
      "[40]\tvalid_0's auc: 0.785569\n",
      "[45]\tvalid_0's auc: 0.787953\n",
      "[50]\tvalid_0's auc: 0.789522\n",
      "[55]\tvalid_0's auc: 0.791497\n",
      "[60]\tvalid_0's auc: 0.793059\n",
      "[65]\tvalid_0's auc: 0.794706\n",
      "[70]\tvalid_0's auc: 0.795738\n",
      "[75]\tvalid_0's auc: 0.796915\n",
      "[80]\tvalid_0's auc: 0.797717\n",
      "[85]\tvalid_0's auc: 0.798352\n",
      "[90]\tvalid_0's auc: 0.799111\n",
      "[95]\tvalid_0's auc: 0.800145\n",
      "[100]\tvalid_0's auc: 0.800773\n",
      "Did not meet early stopping. Best iteration is:\n",
      "[100]\tvalid_0's auc: 0.800773\n",
      "[LightGBM] [Warning] Auto-choosing row-wise multi-threading, the overhead of testing was 0.396620 seconds.\n",
      "You can set `force_row_wise=true` to remove the overhead.\n",
      "And if memory is not enough, you can set `force_col_wise=true`.\n",
      "Training until validation scores don't improve for 25 rounds\n",
      "[5]\tvalid_0's auc: 0.735747\n",
      "[10]\tvalid_0's auc: 0.749755\n",
      "[15]\tvalid_0's auc: 0.760488\n",
      "[20]\tvalid_0's auc: 0.769529\n",
      "[25]\tvalid_0's auc: 0.775474\n",
      "[30]\tvalid_0's auc: 0.77938\n",
      "[35]\tvalid_0's auc: 0.783131\n",
      "[40]\tvalid_0's auc: 0.786522\n",
      "[45]\tvalid_0's auc: 0.788413\n",
      "[50]\tvalid_0's auc: 0.789795\n",
      "[55]\tvalid_0's auc: 0.791769\n",
      "[60]\tvalid_0's auc: 0.793168\n",
      "[65]\tvalid_0's auc: 0.794411\n",
      "[70]\tvalid_0's auc: 0.795429\n",
      "[75]\tvalid_0's auc: 0.796278\n",
      "[80]\tvalid_0's auc: 0.797219\n",
      "[85]\tvalid_0's auc: 0.797996\n",
      "[90]\tvalid_0's auc: 0.798741\n",
      "[95]\tvalid_0's auc: 0.799759\n",
      "[100]\tvalid_0's auc: 0.800223\n",
      "Did not meet early stopping. Best iteration is:\n",
      "[100]\tvalid_0's auc: 0.800223\n",
      "[LightGBM] [Warning] Auto-choosing row-wise multi-threading, the overhead of testing was 0.314219 seconds.\n",
      "You can set `force_row_wise=true` to remove the overhead.\n",
      "And if memory is not enough, you can set `force_col_wise=true`.\n",
      "Training until validation scores don't improve for 25 rounds\n",
      "[5]\tvalid_0's auc: 0.735855\n",
      "[10]\tvalid_0's auc: 0.75034\n",
      "[15]\tvalid_0's auc: 0.760944\n",
      "[20]\tvalid_0's auc: 0.770182\n",
      "[25]\tvalid_0's auc: 0.775638\n",
      "[30]\tvalid_0's auc: 0.779871\n",
      "[35]\tvalid_0's auc: 0.783444\n",
      "[40]\tvalid_0's auc: 0.786124\n",
      "[45]\tvalid_0's auc: 0.788393\n",
      "[50]\tvalid_0's auc: 0.790687\n",
      "[55]\tvalid_0's auc: 0.792396\n",
      "[60]\tvalid_0's auc: 0.793431\n",
      "[65]\tvalid_0's auc: 0.794833\n",
      "[70]\tvalid_0's auc: 0.79559\n",
      "[75]\tvalid_0's auc: 0.796366\n",
      "[80]\tvalid_0's auc: 0.797321\n",
      "[85]\tvalid_0's auc: 0.798101\n",
      "[90]\tvalid_0's auc: 0.798914\n",
      "[95]\tvalid_0's auc: 0.799669\n",
      "[100]\tvalid_0's auc: 0.800125\n",
      "Did not meet early stopping. Best iteration is:\n",
      "[100]\tvalid_0's auc: 0.800125\n",
      "[LightGBM] [Warning] Auto-choosing row-wise multi-threading, the overhead of testing was 0.371864 seconds.\n",
      "You can set `force_row_wise=true` to remove the overhead.\n",
      "And if memory is not enough, you can set `force_col_wise=true`.\n",
      "Training until validation scores don't improve for 25 rounds\n",
      "[5]\tvalid_0's auc: 0.735794\n",
      "[10]\tvalid_0's auc: 0.751136\n",
      "[15]\tvalid_0's auc: 0.761525\n",
      "[20]\tvalid_0's auc: 0.769998\n",
      "[25]\tvalid_0's auc: 0.775958\n",
      "[30]\tvalid_0's auc: 0.780091\n",
      "[35]\tvalid_0's auc: 0.783375\n",
      "[40]\tvalid_0's auc: 0.785613\n",
      "[45]\tvalid_0's auc: 0.788101\n",
      "[50]\tvalid_0's auc: 0.790293\n",
      "[55]\tvalid_0's auc: 0.791654\n",
      "[60]\tvalid_0's auc: 0.792804\n",
      "[65]\tvalid_0's auc: 0.794282\n",
      "[70]\tvalid_0's auc: 0.79518\n",
      "[75]\tvalid_0's auc: 0.796076\n",
      "[80]\tvalid_0's auc: 0.797031\n",
      "[85]\tvalid_0's auc: 0.797763\n",
      "[90]\tvalid_0's auc: 0.799002\n",
      "[95]\tvalid_0's auc: 0.799638\n",
      "[100]\tvalid_0's auc: 0.800152\n",
      "Did not meet early stopping. Best iteration is:\n",
      "[100]\tvalid_0's auc: 0.800152\n"
     ]
    }
   ],
   "source": [
    "# 5 fold CV\n",
    "preds = np.zeros_like(y, dtype=float)\n",
    "models = []\n",
    "for train_idx, test_idx in KFold(5, shuffle=True).split(X, y):\n",
    "    train_ds = lgb.Dataset(X.iloc[train_idx], y.iloc[train_idx])\n",
    "    test_ds = lgb.Dataset(X.iloc[test_idx], y.iloc[test_idx])\n",
    "    # We can use early stopping because of the holdout set existence (\"./data/test.csv\")\n",
    "    # In a real world application we would tune the model on a CV and \n",
    "    # measure the best model performance on the holdout\n",
    "    # However, 100 boosting rounds is too few and the model is still underfit\n",
    "    model = lgb.train(params, train_set=train_ds, valid_sets=test_ds, verbose_eval=5, early_stopping_rounds=25)\n",
    "    models.append(model)\n",
    "    preds[test_idx] = model.predict(X.iloc[test_idx])"
   ]
  },
  {
   "cell_type": "markdown",
   "id": "3560ca79",
   "metadata": {},
   "source": [
    "Померяем ROC-AUC (как в соревновании на кэгле) и Mean User ROC-AUC"
   ]
  },
  {
   "cell_type": "code",
   "execution_count": 11,
   "id": "d6b22c5b",
   "metadata": {},
   "outputs": [
    {
     "data": {
      "text/plain": [
       "0.8002746071855672"
      ]
     },
     "execution_count": 11,
     "metadata": {},
     "output_type": "execute_result"
    }
   ],
   "source": [
    "# OOF ROC-AUC\n",
    "roc_auc_score(y, preds)"
   ]
  },
  {
   "cell_type": "code",
   "execution_count": 12,
   "id": "905faeb2",
   "metadata": {},
   "outputs": [],
   "source": [
    "res_ds = pd.DataFrame({'msno': X['msno'], 'true': y, 'pred': preds})"
   ]
  },
  {
   "cell_type": "code",
   "execution_count": 15,
   "id": "d49222fa",
   "metadata": {},
   "outputs": [],
   "source": [
    "group_aucs = res_ds.groupby('msno').apply(\n",
    "    lambda x: roc_auc_score(x.true, x.pred) if len(set(x.true)) > 1 else np.nan\n",
    ")"
   ]
  },
  {
   "cell_type": "code",
   "execution_count": 17,
   "id": "a7c2995a",
   "metadata": {},
   "outputs": [
    {
     "data": {
      "text/plain": [
       "0.6823059012149877"
      ]
     },
     "execution_count": 17,
     "metadata": {},
     "output_type": "execute_result"
    }
   ],
   "source": [
    "# Mean User ROC-AUC\n",
    "np.nanmean(group_aucs)"
   ]
  },
  {
   "cell_type": "code",
   "execution_count": 21,
   "id": "ce70bf4a",
   "metadata": {},
   "outputs": [],
   "source": [
    "with open('oof_lgbm_models.pkl', 'wb') as f:\n",
    "    pickle.dump(models, f)"
   ]
  },
  {
   "cell_type": "code",
   "execution_count": null,
   "id": "e54070a2",
   "metadata": {},
   "outputs": [],
   "source": []
  }
 ],
 "metadata": {
  "kernelspec": {
   "display_name": "PyCharm (hse_recsys)",
   "language": "python",
   "name": "pycharm-ecd2752e"
  },
  "language_info": {
   "codemirror_mode": {
    "name": "ipython",
    "version": 3
   },
   "file_extension": ".py",
   "mimetype": "text/x-python",
   "name": "python",
   "nbconvert_exporter": "python",
   "pygments_lexer": "ipython3",
   "version": "3.9.7"
  }
 },
 "nbformat": 4,
 "nbformat_minor": 5
}
