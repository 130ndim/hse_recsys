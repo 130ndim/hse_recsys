{
 "cells": [
  {
   "cell_type": "code",
   "execution_count": 45,
   "id": "2c074a69",
   "metadata": {},
   "outputs": [],
   "source": [
    "import pickle\n",
    "\n",
    "from gensim.models import Word2Vec\n",
    "import lightgbm as lgb\n",
    "import numpy as np\n",
    "import pandas as pd\n",
    "\n",
    "from sklearn.model_selection import KFold\n",
    "from sklearn.metrics import roc_auc_score\n",
    "\n",
    "from tqdm.auto import tqdm"
   ]
  },
  {
   "cell_type": "code",
   "execution_count": 2,
   "id": "f3dd44d1",
   "metadata": {},
   "outputs": [],
   "source": [
    "df = pd.read_parquet('./data/featurized.parquet')"
   ]
  },
  {
   "cell_type": "code",
   "execution_count": 3,
   "id": "0e19cd84",
   "metadata": {},
   "outputs": [],
   "source": [
    "X = df.iloc[:, :-1]\n",
    "y = df.iloc[:, -1]"
   ]
  },
  {
   "cell_type": "markdown",
   "id": "7354da1e",
   "metadata": {},
   "source": [
    "## Word2Vec embeddings"
   ]
  },
  {
   "cell_type": "code",
   "execution_count": 47,
   "id": "f00b751f",
   "metadata": {},
   "outputs": [],
   "source": [
    "def w2v_fit(dataset):\n",
    "    # group positives by user id to create user to sentence mapping\n",
    "    user2sentence = df[df['target'] == 1].groupby('msno')['song_id'].apply(list).to_dict()\n",
    "    w2v = Word2Vec(vector_size=64, window=5)\n",
    "    w2v.build_vocab(list(user2sentence.values()))\n",
    "    w2v.train(list(user2sentence.values()), total_examples=w2v.corpus_count, epochs=10)\n",
    "    return w2v\n",
    "\n",
    "\n",
    "def get_song_embeddings(w2v):\n",
    "    return pd.DataFrame(\n",
    "        {'song_id': list(w2v.wv.key_to_index.keys()), 'song_emb': list(w2v.wv.vectors)}\n",
    "    )\n",
    "\n",
    "def get_user_embeddings(w2v, df):\n",
    "    # User embedding is the mean of its positives' embeddings\n",
    "    def get_user_embedding(sentence):\n",
    "        sentence = [x_ for x_ in sentence if x_ in w2v.wv]\n",
    "        if len(sentence) == 0:\n",
    "            # Zeros if the user didn't like anything (can be replaced with mean embedding, for example)\n",
    "            return np.zeros(w2v.vector_size)\n",
    "        return np.mean(w2v.wv[sentence], axis=0)\n",
    "    \n",
    "    return pd.DataFrame(\n",
    "        df[df['target'] == 1].groupby('msno')['song_id'].apply(get_user_embedding)\n",
    "    ).reset_index().rename({'song_id': 'user_emb'}, axis=1)\n",
    "\n",
    "def w2v_predict(w2v, df):\n",
    "    song_embs = get_song_embeddings(w2v)\n",
    "    user_embs = get_user_embeddings(w2v, df)\n",
    "    \n",
    "    out = df[['msno', 'song_id']]\n",
    "    out = out.merge(song_embs, on='song_id', how='left').merge(user_embs, on='msno', how='left')\n",
    "    \n",
    "    song_embs = np.array(\n",
    "        [e if not np.isnan(e).any() else np.full(w2v.vector_size, np.nan) for e in out['song_emb'].tolist()]\n",
    "    )\n",
    "    user_embs = np.array(\n",
    "        [e if not np.isnan(e).any() else np.full(w2v.vector_size, np.nan) for e in out['user_emb'].tolist()]\n",
    "    )\n",
    "    out.drop(['song_emb', 'user_emb'], axis=1, inplace=True)\n",
    "    # Dot product\n",
    "    out['pred'] = np.sum(song_embs * user_embs, axis=1)\n",
    "    # Fill NaN predictions with median\n",
    "    out['pred'] = out['pred'].fillna(out['pred'].median())\n",
    "    # Rescale for ROC-AUC computation\n",
    "    out['pred'] = (out['pred'] - out['pred'].min()) / (out['pred'].max() - out['pred'].min())\n",
    "    return out['pred'].values"
   ]
  },
  {
   "cell_type": "code",
   "execution_count": 40,
   "id": "68ca8f8d",
   "metadata": {},
   "outputs": [],
   "source": [
    "w2v = w2v_fit(df)"
   ]
  },
  {
   "cell_type": "code",
   "execution_count": 41,
   "id": "d46132fa",
   "metadata": {},
   "outputs": [],
   "source": [
    "songs = pd.read_csv('./data/songs.csv')"
   ]
  },
  {
   "cell_type": "code",
   "execution_count": 42,
   "id": "370ad153",
   "metadata": {},
   "outputs": [],
   "source": [
    "def get_similars_for_song(idx: int):\n",
    "    if songs.song_id[idx] in w2v.wv:\n",
    "        return songs[np.isin(songs.song_id, list(map(lambda x: x[0], w2v.wv.similar_by_key(songs.song_id[idx]))))]"
   ]
  },
  {
   "cell_type": "code",
   "execution_count": 43,
   "id": "7a59cdd0",
   "metadata": {},
   "outputs": [
    {
     "data": {
      "text/html": [
       "<div>\n",
       "<style scoped>\n",
       "    .dataframe tbody tr th:only-of-type {\n",
       "        vertical-align: middle;\n",
       "    }\n",
       "\n",
       "    .dataframe tbody tr th {\n",
       "        vertical-align: top;\n",
       "    }\n",
       "\n",
       "    .dataframe thead th {\n",
       "        text-align: right;\n",
       "    }\n",
       "</style>\n",
       "<table border=\"1\" class=\"dataframe\">\n",
       "  <thead>\n",
       "    <tr style=\"text-align: right;\">\n",
       "      <th></th>\n",
       "      <th>song_id</th>\n",
       "      <th>song_length</th>\n",
       "      <th>genre_ids</th>\n",
       "      <th>artist_name</th>\n",
       "      <th>composer</th>\n",
       "      <th>lyricist</th>\n",
       "      <th>language</th>\n",
       "    </tr>\n",
       "  </thead>\n",
       "  <tbody>\n",
       "    <tr>\n",
       "      <th>260</th>\n",
       "      <td>Xpq0mPzfHgy7bHdjM72ncRofGofTjHA7GbF9flLKjCc=</td>\n",
       "      <td>209815</td>\n",
       "      <td>798</td>\n",
       "      <td>木匠兄妹最愛情歌</td>\n",
       "      <td>NaN</td>\n",
       "      <td>NaN</td>\n",
       "      <td>52.0</td>\n",
       "    </tr>\n",
       "    <tr>\n",
       "      <th>15012</th>\n",
       "      <td>oi6RA3FBriNWPB2B8X2we20NSCNoq18ZWVN95WsIV40=</td>\n",
       "      <td>210279</td>\n",
       "      <td>451</td>\n",
       "      <td>吳雨霏 (Kary Ng)</td>\n",
       "      <td>Li Ji Lin</td>\n",
       "      <td>NaN</td>\n",
       "      <td>24.0</td>\n",
       "    </tr>\n",
       "    <tr>\n",
       "      <th>33654</th>\n",
       "      <td>uHDSf/ZXVvd1VR1wIx8gKyeZ6IXh9/fFgbhhKDegpO0=</td>\n",
       "      <td>212427</td>\n",
       "      <td>465</td>\n",
       "      <td>深白色2人組</td>\n",
       "      <td>NaN</td>\n",
       "      <td>NaN</td>\n",
       "      <td>3.0</td>\n",
       "    </tr>\n",
       "    <tr>\n",
       "      <th>58102</th>\n",
       "      <td>yca9GWzc0kCX9oFoKpwn8f0IOoEbijXcTOJgtRGi35Q=</td>\n",
       "      <td>308035</td>\n",
       "      <td>921</td>\n",
       "      <td>Various Artists</td>\n",
       "      <td>李正帆</td>\n",
       "      <td>厲曼婷</td>\n",
       "      <td>3.0</td>\n",
       "    </tr>\n",
       "    <tr>\n",
       "      <th>68886</th>\n",
       "      <td>j+juGRnhjH4k9QRb/EqJNWjcBJ8wTuhVaVrdd2F+4Cg=</td>\n",
       "      <td>248372</td>\n",
       "      <td>458</td>\n",
       "      <td>徐佳瑩 (Lala Hsu)</td>\n",
       "      <td>李偲菘</td>\n",
       "      <td>天天</td>\n",
       "      <td>3.0</td>\n",
       "    </tr>\n",
       "    <tr>\n",
       "      <th>125908</th>\n",
       "      <td>ckwk2dmYDdzii4H5oTTP1aY+79XCDSrQ4TjAfS1hXD4=</td>\n",
       "      <td>154134</td>\n",
       "      <td>465</td>\n",
       "      <td>盧廣仲 (Crowd Lu)</td>\n",
       "      <td>NaN</td>\n",
       "      <td>NaN</td>\n",
       "      <td>3.0</td>\n",
       "    </tr>\n",
       "    <tr>\n",
       "      <th>214554</th>\n",
       "      <td>duir/0oduYDsg8nq3czj/97867gW3r1V5SVriV5mdpc=</td>\n",
       "      <td>173011</td>\n",
       "      <td>465</td>\n",
       "      <td>魏如萱 (Waa Wei)</td>\n",
       "      <td>魏如萱</td>\n",
       "      <td>魏如萱</td>\n",
       "      <td>3.0</td>\n",
       "    </tr>\n",
       "    <tr>\n",
       "      <th>1446615</th>\n",
       "      <td>d2PR77GDSCH2P/rdTLZzqjCcUIhsiRZrxfAlq6C3UYY=</td>\n",
       "      <td>245342</td>\n",
       "      <td>465</td>\n",
       "      <td>羊毛與千葉花</td>\n",
       "      <td>NaN</td>\n",
       "      <td>NaN</td>\n",
       "      <td>17.0</td>\n",
       "    </tr>\n",
       "    <tr>\n",
       "      <th>1659043</th>\n",
       "      <td>eOrYV8IpXUuGkKup6UVfS7SoycV/s0hoLV73s9VqwbI=</td>\n",
       "      <td>325799</td>\n",
       "      <td>2022</td>\n",
       "      <td>四分衛 (Quarterback)</td>\n",
       "      <td>陳如山</td>\n",
       "      <td>陳如山</td>\n",
       "      <td>3.0</td>\n",
       "    </tr>\n",
       "    <tr>\n",
       "      <th>1937582</th>\n",
       "      <td>xfhd4RmJE6p40tlK0HEFsf+yq2fyr0bhIvR6mWATVhA=</td>\n",
       "      <td>244924</td>\n",
       "      <td>921</td>\n",
       "      <td>Various Artists</td>\n",
       "      <td>小蟲</td>\n",
       "      <td>小蟲</td>\n",
       "      <td>3.0</td>\n",
       "    </tr>\n",
       "  </tbody>\n",
       "</table>\n",
       "</div>"
      ],
      "text/plain": [
       "                                              song_id  song_length genre_ids  \\\n",
       "260      Xpq0mPzfHgy7bHdjM72ncRofGofTjHA7GbF9flLKjCc=       209815       798   \n",
       "15012    oi6RA3FBriNWPB2B8X2we20NSCNoq18ZWVN95WsIV40=       210279       451   \n",
       "33654    uHDSf/ZXVvd1VR1wIx8gKyeZ6IXh9/fFgbhhKDegpO0=       212427       465   \n",
       "58102    yca9GWzc0kCX9oFoKpwn8f0IOoEbijXcTOJgtRGi35Q=       308035       921   \n",
       "68886    j+juGRnhjH4k9QRb/EqJNWjcBJ8wTuhVaVrdd2F+4Cg=       248372       458   \n",
       "125908   ckwk2dmYDdzii4H5oTTP1aY+79XCDSrQ4TjAfS1hXD4=       154134       465   \n",
       "214554   duir/0oduYDsg8nq3czj/97867gW3r1V5SVriV5mdpc=       173011       465   \n",
       "1446615  d2PR77GDSCH2P/rdTLZzqjCcUIhsiRZrxfAlq6C3UYY=       245342       465   \n",
       "1659043  eOrYV8IpXUuGkKup6UVfS7SoycV/s0hoLV73s9VqwbI=       325799      2022   \n",
       "1937582  xfhd4RmJE6p40tlK0HEFsf+yq2fyr0bhIvR6mWATVhA=       244924       921   \n",
       "\n",
       "               artist_name   composer lyricist  language  \n",
       "260               木匠兄妹最愛情歌        NaN      NaN      52.0  \n",
       "15012        吳雨霏 (Kary Ng)  Li Ji Lin      NaN      24.0  \n",
       "33654               深白色2人組        NaN      NaN       3.0  \n",
       "58102      Various Artists        李正帆      厲曼婷       3.0  \n",
       "68886       徐佳瑩 (Lala Hsu)        李偲菘       天天       3.0  \n",
       "125908      盧廣仲 (Crowd Lu)        NaN      NaN       3.0  \n",
       "214554       魏如萱 (Waa Wei)        魏如萱      魏如萱       3.0  \n",
       "1446615             羊毛與千葉花        NaN      NaN      17.0  \n",
       "1659043  四分衛 (Quarterback)        陳如山      陳如山       3.0  \n",
       "1937582    Various Artists         小蟲       小蟲       3.0  "
      ]
     },
     "execution_count": 43,
     "metadata": {},
     "output_type": "execute_result"
    }
   ],
   "source": [
    "# Looks reasonable\n",
    "get_similars_for_song(0)"
   ]
  },
  {
   "cell_type": "code",
   "execution_count": 44,
   "id": "8d3446f7",
   "metadata": {},
   "outputs": [
    {
     "data": {
      "text/html": [
       "<div>\n",
       "<style scoped>\n",
       "    .dataframe tbody tr th:only-of-type {\n",
       "        vertical-align: middle;\n",
       "    }\n",
       "\n",
       "    .dataframe tbody tr th {\n",
       "        vertical-align: top;\n",
       "    }\n",
       "\n",
       "    .dataframe thead th {\n",
       "        text-align: right;\n",
       "    }\n",
       "</style>\n",
       "<table border=\"1\" class=\"dataframe\">\n",
       "  <thead>\n",
       "    <tr style=\"text-align: right;\">\n",
       "      <th></th>\n",
       "      <th>song_id</th>\n",
       "      <th>song_length</th>\n",
       "      <th>genre_ids</th>\n",
       "      <th>artist_name</th>\n",
       "      <th>composer</th>\n",
       "      <th>lyricist</th>\n",
       "      <th>language</th>\n",
       "    </tr>\n",
       "  </thead>\n",
       "  <tbody>\n",
       "    <tr>\n",
       "      <th>52188</th>\n",
       "      <td>podlycp3c6tOEDw7q8iQBVgvFjiMpkWWXTlXljGdbTY=</td>\n",
       "      <td>212973</td>\n",
       "      <td>444</td>\n",
       "      <td>TWICE</td>\n",
       "      <td>Rado</td>\n",
       "      <td>NaN</td>\n",
       "      <td>31.0</td>\n",
       "    </tr>\n",
       "    <tr>\n",
       "      <th>57541</th>\n",
       "      <td>OCf6ja6rohWVy5UBE/XTSOf9YxiMrkCIaLTkFQ+nNf8=</td>\n",
       "      <td>212453</td>\n",
       "      <td>444</td>\n",
       "      <td>BLACKPINK</td>\n",
       "      <td>TEDDY|  FUTURE BOUNCE|  Bekuh BOOM</td>\n",
       "      <td>TEDDY|  Bekuh BOOM</td>\n",
       "      <td>31.0</td>\n",
       "    </tr>\n",
       "    <tr>\n",
       "      <th>93670</th>\n",
       "      <td>0PSoBhrpfwF09qQKvTiItwZNPjOuyL0uoTazKevG8ls=</td>\n",
       "      <td>223375</td>\n",
       "      <td>444</td>\n",
       "      <td>Taeyeon</td>\n",
       "      <td>Kim Ea Na| Christian Vinten| Chelcee Grimes</td>\n",
       "      <td>NaN</td>\n",
       "      <td>31.0</td>\n",
       "    </tr>\n",
       "    <tr>\n",
       "      <th>95000</th>\n",
       "      <td>uzU6ntNZT60j0CqFNXTpF6Oo8W3w5UwU/ANEODidW04=</td>\n",
       "      <td>208793</td>\n",
       "      <td>444</td>\n",
       "      <td>TWICE</td>\n",
       "      <td>Black Eyed V</td>\n",
       "      <td>NaN</td>\n",
       "      <td>31.0</td>\n",
       "    </tr>\n",
       "    <tr>\n",
       "      <th>96339</th>\n",
       "      <td>JuOOeJJjt5Dgbug0czZ6Mv25AJMtVAukaoxz8T/JX7c=</td>\n",
       "      <td>230373</td>\n",
       "      <td>444</td>\n",
       "      <td>BLACKPINK</td>\n",
       "      <td>TEDDY|  SEO WON JIN</td>\n",
       "      <td>TEDDY</td>\n",
       "      <td>31.0</td>\n",
       "    </tr>\n",
       "    <tr>\n",
       "      <th>123099</th>\n",
       "      <td>w4Zku7HxtkAKl/BB8H81ZfWOXwnnmVbZBvFZeRPuRUU=</td>\n",
       "      <td>216967</td>\n",
       "      <td>444</td>\n",
       "      <td>BANGTAN BOYS</td>\n",
       "      <td>Pdogg| Rap Monster| Suga| J-hope| \"hitman\"bang...</td>\n",
       "      <td>NaN</td>\n",
       "      <td>31.0</td>\n",
       "    </tr>\n",
       "    <tr>\n",
       "      <th>163245</th>\n",
       "      <td>S7MVWawzrMsqfnJdStSPo5rzTn2v8N+AFF+fF+GwprQ=</td>\n",
       "      <td>175171</td>\n",
       "      <td>444</td>\n",
       "      <td>TWICE</td>\n",
       "      <td>Chloe| Noday</td>\n",
       "      <td>NaN</td>\n",
       "      <td>31.0</td>\n",
       "    </tr>\n",
       "    <tr>\n",
       "      <th>287598</th>\n",
       "      <td>rcPNzl8xjj74tjZDop961+ugDVJKx4mdgh7L1xJ85FI=</td>\n",
       "      <td>240822</td>\n",
       "      <td>444</td>\n",
       "      <td>BLACKPINK</td>\n",
       "      <td>TEDDY|  Bekuh BOOM</td>\n",
       "      <td>TEDDY|  Bekuh BOOM</td>\n",
       "      <td>31.0</td>\n",
       "    </tr>\n",
       "    <tr>\n",
       "      <th>1401790</th>\n",
       "      <td>kE+FVLsG03zTzYoGVDqTmVkoSKC9DjJwQr2puF6MkOI=</td>\n",
       "      <td>211670</td>\n",
       "      <td>444</td>\n",
       "      <td>BLACKPINK</td>\n",
       "      <td>TEDDY|  FUTURE BOUNCE|  Bekuh BOOM</td>\n",
       "      <td>TEDDY|  Bekuh BOOM</td>\n",
       "      <td>31.0</td>\n",
       "    </tr>\n",
       "    <tr>\n",
       "      <th>1701616</th>\n",
       "      <td>ZmO/ZHR6dKRh2ugrVt4mmHho11pz2ksQH0eYBdtRZ68=</td>\n",
       "      <td>175171</td>\n",
       "      <td>444</td>\n",
       "      <td>TWICE</td>\n",
       "      <td>Sebastian Thott| Didrik Thott| Andreas Oberg| ...</td>\n",
       "      <td>NaN</td>\n",
       "      <td>31.0</td>\n",
       "    </tr>\n",
       "  </tbody>\n",
       "</table>\n",
       "</div>"
      ],
      "text/plain": [
       "                                              song_id  song_length genre_ids  \\\n",
       "52188    podlycp3c6tOEDw7q8iQBVgvFjiMpkWWXTlXljGdbTY=       212973       444   \n",
       "57541    OCf6ja6rohWVy5UBE/XTSOf9YxiMrkCIaLTkFQ+nNf8=       212453       444   \n",
       "93670    0PSoBhrpfwF09qQKvTiItwZNPjOuyL0uoTazKevG8ls=       223375       444   \n",
       "95000    uzU6ntNZT60j0CqFNXTpF6Oo8W3w5UwU/ANEODidW04=       208793       444   \n",
       "96339    JuOOeJJjt5Dgbug0czZ6Mv25AJMtVAukaoxz8T/JX7c=       230373       444   \n",
       "123099   w4Zku7HxtkAKl/BB8H81ZfWOXwnnmVbZBvFZeRPuRUU=       216967       444   \n",
       "163245   S7MVWawzrMsqfnJdStSPo5rzTn2v8N+AFF+fF+GwprQ=       175171       444   \n",
       "287598   rcPNzl8xjj74tjZDop961+ugDVJKx4mdgh7L1xJ85FI=       240822       444   \n",
       "1401790  kE+FVLsG03zTzYoGVDqTmVkoSKC9DjJwQr2puF6MkOI=       211670       444   \n",
       "1701616  ZmO/ZHR6dKRh2ugrVt4mmHho11pz2ksQH0eYBdtRZ68=       175171       444   \n",
       "\n",
       "          artist_name                                           composer  \\\n",
       "52188           TWICE                                               Rado   \n",
       "57541       BLACKPINK                 TEDDY|  FUTURE BOUNCE|  Bekuh BOOM   \n",
       "93670         Taeyeon        Kim Ea Na| Christian Vinten| Chelcee Grimes   \n",
       "95000           TWICE                                       Black Eyed V   \n",
       "96339       BLACKPINK                                TEDDY|  SEO WON JIN   \n",
       "123099   BANGTAN BOYS  Pdogg| Rap Monster| Suga| J-hope| \"hitman\"bang...   \n",
       "163245          TWICE                                       Chloe| Noday   \n",
       "287598      BLACKPINK                                 TEDDY|  Bekuh BOOM   \n",
       "1401790     BLACKPINK                 TEDDY|  FUTURE BOUNCE|  Bekuh BOOM   \n",
       "1701616         TWICE  Sebastian Thott| Didrik Thott| Andreas Oberg| ...   \n",
       "\n",
       "                   lyricist  language  \n",
       "52188                   NaN      31.0  \n",
       "57541    TEDDY|  Bekuh BOOM      31.0  \n",
       "93670                   NaN      31.0  \n",
       "95000                   NaN      31.0  \n",
       "96339                 TEDDY      31.0  \n",
       "123099                  NaN      31.0  \n",
       "163245                  NaN      31.0  \n",
       "287598   TEDDY|  Bekuh BOOM      31.0  \n",
       "1401790  TEDDY|  Bekuh BOOM      31.0  \n",
       "1701616                 NaN      31.0  "
      ]
     },
     "execution_count": 44,
     "metadata": {},
     "output_type": "execute_result"
    }
   ],
   "source": [
    "# Same here\n",
    "get_similars_for_song(1)"
   ]
  },
  {
   "cell_type": "markdown",
   "id": "2b332b94",
   "metadata": {},
   "source": [
    "## Word2Vec as a predictor model"
   ]
  },
  {
   "cell_type": "code",
   "execution_count": 49,
   "id": "c8c23977",
   "metadata": {},
   "outputs": [
    {
     "data": {
      "application/vnd.jupyter.widget-view+json": {
       "model_id": "c3f7212888e148018be8b311813c5aae",
       "version_major": 2,
       "version_minor": 0
      },
      "text/plain": [
       "  0%|          | 0/5 [00:00<?, ?it/s]"
      ]
     },
     "metadata": {},
     "output_type": "display_data"
    }
   ],
   "source": [
    "# 5 fold CV\n",
    "preds = np.zeros_like(y, dtype=float)\n",
    "models = []\n",
    "for train_idx, test_idx in tqdm(KFold(5, shuffle=True).split(X, y), total=5):\n",
    "    w2v = w2v_fit(df.iloc[train_idx])\n",
    "    preds[test_idx] = w2v_predict(w2v, df.iloc[test_idx])"
   ]
  },
  {
   "cell_type": "code",
   "execution_count": 50,
   "id": "ba2994b0",
   "metadata": {},
   "outputs": [
    {
     "data": {
      "text/plain": [
       "0.6336243659705524"
      ]
     },
     "execution_count": 50,
     "metadata": {},
     "output_type": "execute_result"
    }
   ],
   "source": [
    "# OOF ROC-AUC\n",
    "roc_auc_score(y, preds)"
   ]
  },
  {
   "cell_type": "code",
   "execution_count": 51,
   "id": "efa54bf0",
   "metadata": {},
   "outputs": [
    {
     "data": {
      "text/plain": [
       "0.7334474199326709"
      ]
     },
     "execution_count": 51,
     "metadata": {},
     "output_type": "execute_result"
    }
   ],
   "source": [
    "res_ds = pd.DataFrame({'msno': X['msno'], 'true': y, 'pred': preds})\n",
    "group_aucs = res_ds.groupby('msno').apply(\n",
    "    lambda x: roc_auc_score(x.true, x.pred) if len(set(x.true)) > 1 else np.nan\n",
    ")\n",
    "# Mean User ROC-AUC\n",
    "np.nanmean(group_aucs)"
   ]
  },
  {
   "cell_type": "markdown",
   "id": "ebd3328e",
   "metadata": {},
   "source": [
    "Интересно, что по обычному ROC-AUC LGBM сильно лучше (~0.8), однако по Mean User AUC впереди эмбеддинги Word2Vec.\n",
    "Скорее всего такое поведение обуславливается извлеченными фичами. Word2Vec учитывает частоты для песен, юзеров, а LGBM использует более \"глобальные\" фичи, вроде имен исполнителей, композиторов, длительности трека и т.д."
   ]
  },
  {
   "cell_type": "markdown",
   "id": "5ded05f3",
   "metadata": {},
   "source": [
    "## Ensembling"
   ]
  },
  {
   "cell_type": "code",
   "execution_count": 64,
   "id": "15a42908",
   "metadata": {},
   "outputs": [],
   "source": [
    "# LGB params from kaggle\n",
    "params = {\n",
    "    'objective': 'binary',\n",
    "    'boosting': 'gbdt',\n",
    "    'learning_rate': 0.2 ,\n",
    "    'verbose': 0,\n",
    "    'num_leaves': 100,\n",
    "    'bagging_fraction': 0.95,\n",
    "    'bagging_freq': 1,\n",
    "    'bagging_seed': 1,\n",
    "    'feature_fraction': 0.9,\n",
    "    'feature_fraction_seed': 1,\n",
    "    'max_bin': 256,\n",
    "    'num_rounds': 100,\n",
    "    'metric' : 'auc'\n",
    "}"
   ]
  },
  {
   "cell_type": "code",
   "execution_count": 73,
   "id": "b0a95443",
   "metadata": {
    "scrolled": false
   },
   "outputs": [
    {
     "name": "stderr",
     "output_type": "stream",
     "text": [
      "\n",
      "A value is trying to be set on a copy of a slice from a DataFrame.\n",
      "Try using .loc[row_indexer,col_indexer] = value instead\n",
      "\n",
      "See the caveats in the documentation: https://pandas.pydata.org/pandas-docs/stable/user_guide/indexing.html#returning-a-view-versus-a-copy\n",
      "\n",
      "A value is trying to be set on a copy of a slice from a DataFrame.\n",
      "Try using .loc[row_indexer,col_indexer] = value instead\n",
      "\n",
      "See the caveats in the documentation: https://pandas.pydata.org/pandas-docs/stable/user_guide/indexing.html#returning-a-view-versus-a-copy\n",
      "Found `num_rounds` in params. Will use it instead of argument\n",
      "'early_stopping_rounds' argument is deprecated and will be removed in a future release of LightGBM. Pass 'early_stopping()' callback via 'callbacks' argument instead.\n",
      "'verbose_eval' argument is deprecated and will be removed in a future release of LightGBM. Pass 'log_evaluation()' callback via 'callbacks' argument instead.\n"
     ]
    },
    {
     "name": "stdout",
     "output_type": "stream",
     "text": [
      "[LightGBM] [Warning] Auto-choosing row-wise multi-threading, the overhead of testing was 0.291236 seconds.\n",
      "You can set `force_row_wise=true` to remove the overhead.\n",
      "And if memory is not enough, you can set `force_col_wise=true`.\n"
     ]
    },
    {
     "name": "stderr",
     "output_type": "stream",
     "text": [
      "Overriding the parameters from Reference Dataset.\n",
      "categorical_column in param dict is overridden.\n"
     ]
    },
    {
     "name": "stdout",
     "output_type": "stream",
     "text": [
      "Training until validation scores don't improve for 25 rounds\n",
      "[5]\tvalid_0's auc: 0.754784\n",
      "[10]\tvalid_0's auc: 0.768856\n",
      "[15]\tvalid_0's auc: 0.77958\n",
      "[20]\tvalid_0's auc: 0.790309\n",
      "[25]\tvalid_0's auc: 0.796326\n",
      "[30]\tvalid_0's auc: 0.801294\n",
      "[35]\tvalid_0's auc: 0.804328\n",
      "[40]\tvalid_0's auc: 0.807672\n",
      "[45]\tvalid_0's auc: 0.809622\n",
      "[50]\tvalid_0's auc: 0.811146\n",
      "[55]\tvalid_0's auc: 0.812908\n",
      "[60]\tvalid_0's auc: 0.814062\n",
      "[65]\tvalid_0's auc: 0.815139\n",
      "[70]\tvalid_0's auc: 0.816183\n",
      "[75]\tvalid_0's auc: 0.81709\n",
      "[80]\tvalid_0's auc: 0.817948\n",
      "[85]\tvalid_0's auc: 0.818479\n",
      "[90]\tvalid_0's auc: 0.819228\n",
      "[95]\tvalid_0's auc: 0.819958\n",
      "[100]\tvalid_0's auc: 0.820393\n",
      "Did not meet early stopping. Best iteration is:\n",
      "[99]\tvalid_0's auc: 0.820492\n"
     ]
    },
    {
     "name": "stderr",
     "output_type": "stream",
     "text": [
      "\n",
      "A value is trying to be set on a copy of a slice from a DataFrame.\n",
      "Try using .loc[row_indexer,col_indexer] = value instead\n",
      "\n",
      "See the caveats in the documentation: https://pandas.pydata.org/pandas-docs/stable/user_guide/indexing.html#returning-a-view-versus-a-copy\n",
      "\n",
      "A value is trying to be set on a copy of a slice from a DataFrame.\n",
      "Try using .loc[row_indexer,col_indexer] = value instead\n",
      "\n",
      "See the caveats in the documentation: https://pandas.pydata.org/pandas-docs/stable/user_guide/indexing.html#returning-a-view-versus-a-copy\n",
      "Found `num_rounds` in params. Will use it instead of argument\n",
      "'early_stopping_rounds' argument is deprecated and will be removed in a future release of LightGBM. Pass 'early_stopping()' callback via 'callbacks' argument instead.\n",
      "'verbose_eval' argument is deprecated and will be removed in a future release of LightGBM. Pass 'log_evaluation()' callback via 'callbacks' argument instead.\n"
     ]
    },
    {
     "name": "stdout",
     "output_type": "stream",
     "text": [
      "[LightGBM] [Warning] Auto-choosing row-wise multi-threading, the overhead of testing was 0.311245 seconds.\n",
      "You can set `force_row_wise=true` to remove the overhead.\n",
      "And if memory is not enough, you can set `force_col_wise=true`.\n"
     ]
    },
    {
     "name": "stderr",
     "output_type": "stream",
     "text": [
      "Overriding the parameters from Reference Dataset.\n",
      "categorical_column in param dict is overridden.\n"
     ]
    },
    {
     "name": "stdout",
     "output_type": "stream",
     "text": [
      "Training until validation scores don't improve for 25 rounds\n",
      "[5]\tvalid_0's auc: 0.75427\n",
      "[10]\tvalid_0's auc: 0.764989\n",
      "[15]\tvalid_0's auc: 0.77763\n",
      "[20]\tvalid_0's auc: 0.786098\n",
      "[25]\tvalid_0's auc: 0.792197\n",
      "[30]\tvalid_0's auc: 0.797324\n",
      "[35]\tvalid_0's auc: 0.800023\n",
      "[40]\tvalid_0's auc: 0.802772\n",
      "[45]\tvalid_0's auc: 0.805262\n",
      "[50]\tvalid_0's auc: 0.806311\n",
      "[55]\tvalid_0's auc: 0.808203\n",
      "[60]\tvalid_0's auc: 0.809793\n",
      "[65]\tvalid_0's auc: 0.810518\n",
      "[70]\tvalid_0's auc: 0.811796\n",
      "[75]\tvalid_0's auc: 0.813278\n",
      "[80]\tvalid_0's auc: 0.814162\n",
      "[85]\tvalid_0's auc: 0.814885\n",
      "[90]\tvalid_0's auc: 0.815502\n",
      "[95]\tvalid_0's auc: 0.815857\n",
      "[100]\tvalid_0's auc: 0.817009\n",
      "Did not meet early stopping. Best iteration is:\n",
      "[100]\tvalid_0's auc: 0.817009\n"
     ]
    },
    {
     "name": "stderr",
     "output_type": "stream",
     "text": [
      "\n",
      "A value is trying to be set on a copy of a slice from a DataFrame.\n",
      "Try using .loc[row_indexer,col_indexer] = value instead\n",
      "\n",
      "See the caveats in the documentation: https://pandas.pydata.org/pandas-docs/stable/user_guide/indexing.html#returning-a-view-versus-a-copy\n",
      "\n",
      "A value is trying to be set on a copy of a slice from a DataFrame.\n",
      "Try using .loc[row_indexer,col_indexer] = value instead\n",
      "\n",
      "See the caveats in the documentation: https://pandas.pydata.org/pandas-docs/stable/user_guide/indexing.html#returning-a-view-versus-a-copy\n",
      "Found `num_rounds` in params. Will use it instead of argument\n",
      "'early_stopping_rounds' argument is deprecated and will be removed in a future release of LightGBM. Pass 'early_stopping()' callback via 'callbacks' argument instead.\n",
      "'verbose_eval' argument is deprecated and will be removed in a future release of LightGBM. Pass 'log_evaluation()' callback via 'callbacks' argument instead.\n"
     ]
    },
    {
     "name": "stdout",
     "output_type": "stream",
     "text": [
      "[LightGBM] [Warning] Auto-choosing row-wise multi-threading, the overhead of testing was 0.283802 seconds.\n",
      "You can set `force_row_wise=true` to remove the overhead.\n",
      "And if memory is not enough, you can set `force_col_wise=true`.\n"
     ]
    },
    {
     "name": "stderr",
     "output_type": "stream",
     "text": [
      "Overriding the parameters from Reference Dataset.\n",
      "categorical_column in param dict is overridden.\n"
     ]
    },
    {
     "name": "stdout",
     "output_type": "stream",
     "text": [
      "Training until validation scores don't improve for 25 rounds\n",
      "[5]\tvalid_0's auc: 0.760876\n",
      "[10]\tvalid_0's auc: 0.776045\n",
      "[15]\tvalid_0's auc: 0.786452\n",
      "[20]\tvalid_0's auc: 0.796487\n",
      "[25]\tvalid_0's auc: 0.801893\n",
      "[30]\tvalid_0's auc: 0.806671\n",
      "[35]\tvalid_0's auc: 0.809476\n",
      "[40]\tvalid_0's auc: 0.812861\n",
      "[45]\tvalid_0's auc: 0.815385\n",
      "[50]\tvalid_0's auc: 0.817199\n",
      "[55]\tvalid_0's auc: 0.818579\n",
      "[60]\tvalid_0's auc: 0.819804\n",
      "[65]\tvalid_0's auc: 0.820964\n",
      "[70]\tvalid_0's auc: 0.822034\n",
      "[75]\tvalid_0's auc: 0.823357\n",
      "[80]\tvalid_0's auc: 0.824076\n",
      "[85]\tvalid_0's auc: 0.824657\n",
      "[90]\tvalid_0's auc: 0.825273\n",
      "[95]\tvalid_0's auc: 0.825643\n",
      "[100]\tvalid_0's auc: 0.826265\n",
      "Did not meet early stopping. Best iteration is:\n",
      "[100]\tvalid_0's auc: 0.826265\n"
     ]
    },
    {
     "name": "stderr",
     "output_type": "stream",
     "text": [
      "\n",
      "A value is trying to be set on a copy of a slice from a DataFrame.\n",
      "Try using .loc[row_indexer,col_indexer] = value instead\n",
      "\n",
      "See the caveats in the documentation: https://pandas.pydata.org/pandas-docs/stable/user_guide/indexing.html#returning-a-view-versus-a-copy\n",
      "\n",
      "A value is trying to be set on a copy of a slice from a DataFrame.\n",
      "Try using .loc[row_indexer,col_indexer] = value instead\n",
      "\n",
      "See the caveats in the documentation: https://pandas.pydata.org/pandas-docs/stable/user_guide/indexing.html#returning-a-view-versus-a-copy\n",
      "Found `num_rounds` in params. Will use it instead of argument\n",
      "'early_stopping_rounds' argument is deprecated and will be removed in a future release of LightGBM. Pass 'early_stopping()' callback via 'callbacks' argument instead.\n",
      "'verbose_eval' argument is deprecated and will be removed in a future release of LightGBM. Pass 'log_evaluation()' callback via 'callbacks' argument instead.\n"
     ]
    },
    {
     "name": "stdout",
     "output_type": "stream",
     "text": [
      "[LightGBM] [Warning] Auto-choosing row-wise multi-threading, the overhead of testing was 0.250625 seconds.\n",
      "You can set `force_row_wise=true` to remove the overhead.\n",
      "And if memory is not enough, you can set `force_col_wise=true`.\n"
     ]
    },
    {
     "name": "stderr",
     "output_type": "stream",
     "text": [
      "Overriding the parameters from Reference Dataset.\n",
      "categorical_column in param dict is overridden.\n"
     ]
    },
    {
     "name": "stdout",
     "output_type": "stream",
     "text": [
      "Training until validation scores don't improve for 25 rounds\n",
      "[5]\tvalid_0's auc: 0.760382\n",
      "[10]\tvalid_0's auc: 0.776128\n",
      "[15]\tvalid_0's auc: 0.786436\n",
      "[20]\tvalid_0's auc: 0.796428\n",
      "[25]\tvalid_0's auc: 0.803011\n",
      "[30]\tvalid_0's auc: 0.807868\n",
      "[35]\tvalid_0's auc: 0.811017\n",
      "[40]\tvalid_0's auc: 0.813708\n",
      "[45]\tvalid_0's auc: 0.816435\n",
      "[50]\tvalid_0's auc: 0.818085\n",
      "[55]\tvalid_0's auc: 0.819751\n",
      "[60]\tvalid_0's auc: 0.820926\n",
      "[65]\tvalid_0's auc: 0.821965\n",
      "[70]\tvalid_0's auc: 0.822761\n",
      "[75]\tvalid_0's auc: 0.82375\n",
      "[80]\tvalid_0's auc: 0.824768\n",
      "[85]\tvalid_0's auc: 0.825433\n",
      "[90]\tvalid_0's auc: 0.826298\n",
      "[95]\tvalid_0's auc: 0.826877\n",
      "[100]\tvalid_0's auc: 0.827421\n",
      "Did not meet early stopping. Best iteration is:\n",
      "[99]\tvalid_0's auc: 0.827487\n"
     ]
    },
    {
     "name": "stderr",
     "output_type": "stream",
     "text": [
      "\n",
      "A value is trying to be set on a copy of a slice from a DataFrame.\n",
      "Try using .loc[row_indexer,col_indexer] = value instead\n",
      "\n",
      "See the caveats in the documentation: https://pandas.pydata.org/pandas-docs/stable/user_guide/indexing.html#returning-a-view-versus-a-copy\n",
      "\n",
      "A value is trying to be set on a copy of a slice from a DataFrame.\n",
      "Try using .loc[row_indexer,col_indexer] = value instead\n",
      "\n",
      "See the caveats in the documentation: https://pandas.pydata.org/pandas-docs/stable/user_guide/indexing.html#returning-a-view-versus-a-copy\n",
      "Found `num_rounds` in params. Will use it instead of argument\n",
      "'early_stopping_rounds' argument is deprecated and will be removed in a future release of LightGBM. Pass 'early_stopping()' callback via 'callbacks' argument instead.\n",
      "'verbose_eval' argument is deprecated and will be removed in a future release of LightGBM. Pass 'log_evaluation()' callback via 'callbacks' argument instead.\n"
     ]
    },
    {
     "name": "stdout",
     "output_type": "stream",
     "text": [
      "[LightGBM] [Warning] Auto-choosing row-wise multi-threading, the overhead of testing was 0.276687 seconds.\n",
      "You can set `force_row_wise=true` to remove the overhead.\n",
      "And if memory is not enough, you can set `force_col_wise=true`.\n"
     ]
    },
    {
     "name": "stderr",
     "output_type": "stream",
     "text": [
      "Overriding the parameters from Reference Dataset.\n",
      "categorical_column in param dict is overridden.\n"
     ]
    },
    {
     "name": "stdout",
     "output_type": "stream",
     "text": [
      "Training until validation scores don't improve for 25 rounds\n",
      "[5]\tvalid_0's auc: 0.753968\n",
      "[10]\tvalid_0's auc: 0.767139\n",
      "[15]\tvalid_0's auc: 0.778629\n",
      "[20]\tvalid_0's auc: 0.788219\n",
      "[25]\tvalid_0's auc: 0.794765\n",
      "[30]\tvalid_0's auc: 0.799838\n",
      "[35]\tvalid_0's auc: 0.802684\n",
      "[40]\tvalid_0's auc: 0.805911\n",
      "[45]\tvalid_0's auc: 0.808597\n",
      "[50]\tvalid_0's auc: 0.810185\n",
      "[55]\tvalid_0's auc: 0.811578\n",
      "[60]\tvalid_0's auc: 0.813068\n",
      "[65]\tvalid_0's auc: 0.813884\n",
      "[70]\tvalid_0's auc: 0.815049\n",
      "[75]\tvalid_0's auc: 0.815939\n",
      "[80]\tvalid_0's auc: 0.817013\n",
      "[85]\tvalid_0's auc: 0.817343\n",
      "[90]\tvalid_0's auc: 0.818121\n",
      "[95]\tvalid_0's auc: 0.818675\n",
      "[100]\tvalid_0's auc: 0.819228\n",
      "Did not meet early stopping. Best iteration is:\n",
      "[99]\tvalid_0's auc: 0.81931\n"
     ]
    }
   ],
   "source": [
    "# 5 fold CV\n",
    "preds = np.zeros_like(y, dtype=float)\n",
    "models = []\n",
    "test_sets = []\n",
    "for train_idx, test_idx in KFold(5, shuffle=True).split(X, y):\n",
    "    w2v = w2v_fit(df.iloc[train_idx])\n",
    "    \n",
    "    X_train = X.iloc[train_idx]\n",
    "    X_train['w2v_pred'] = w2v_predict(w2v, df.iloc[train_idx])\n",
    "    X_test = X.iloc[test_idx]\n",
    "    X_test['w2v_pred'] = w2v_predict(w2v, df.iloc[test_idx])\n",
    "    \n",
    "    test_sets.append((X_test, y.iloc[test_idx]))\n",
    "\n",
    "    train_ds = lgb.Dataset(X_train, y.iloc[train_idx])\n",
    "    test_ds = lgb.Dataset(X_test, y.iloc[test_idx])\n",
    "    # We can use early stopping because of the existence of the holdout set (\"./data/test.csv\")\n",
    "    # However, 100 boosting rounds is too few and the model is still underfit\n",
    "    model = lgb.train(params, train_set=train_ds, valid_sets=test_ds, verbose_eval=5, early_stopping_rounds=25)\n",
    "    models.append((w2v, model))\n",
    "    preds[test_idx] = model.predict(X_test)"
   ]
  },
  {
   "cell_type": "code",
   "execution_count": 74,
   "id": "8fe59a66",
   "metadata": {},
   "outputs": [
    {
     "data": {
      "text/plain": [
       "0.8180748782406358"
      ]
     },
     "execution_count": 74,
     "metadata": {},
     "output_type": "execute_result"
    }
   ],
   "source": [
    "# OOF ROC-AUC\n",
    "roc_auc_score(y, preds)"
   ]
  },
  {
   "cell_type": "code",
   "execution_count": 75,
   "id": "18ca73c1",
   "metadata": {},
   "outputs": [
    {
     "data": {
      "text/plain": [
       "0.778340379407677"
      ]
     },
     "execution_count": 75,
     "metadata": {},
     "output_type": "execute_result"
    }
   ],
   "source": [
    "res_ds = pd.DataFrame({'msno': X['msno'], 'true': y, 'pred': preds})\n",
    "group_aucs = res_ds.groupby('msno').apply(\n",
    "    lambda x: roc_auc_score(x.true, x.pred) if len(set(x.true)) > 1 else np.nan\n",
    ")\n",
    "# Mean User ROC-AUC\n",
    "np.nanmean(group_aucs)"
   ]
  },
  {
   "cell_type": "markdown",
   "id": "4a1b35e5",
   "metadata": {},
   "source": [
    "Блендингом Word2Vec-а с LGBM, удалось улучшить обе метрики"
   ]
  },
  {
   "cell_type": "code",
   "execution_count": 76,
   "id": "4bd34b44",
   "metadata": {},
   "outputs": [],
   "source": [
    "import shap"
   ]
  },
  {
   "cell_type": "code",
   "execution_count": 77,
   "id": "a463407f",
   "metadata": {},
   "outputs": [],
   "source": [
    "explainer = shap.TreeExplainer(models[0][1])"
   ]
  },
  {
   "cell_type": "code",
   "execution_count": 78,
   "id": "79aa9226",
   "metadata": {},
   "outputs": [
    {
     "name": "stderr",
     "output_type": "stream",
     "text": [
      "LightGBM binary classifier with TreeExplainer shap values output has changed to a list of ndarray\n"
     ]
    }
   ],
   "source": [
    "out = explainer.shap_values(*test_sets[0])"
   ]
  },
  {
   "cell_type": "code",
   "execution_count": 80,
   "id": "98e82fba",
   "metadata": {},
   "outputs": [
    {
     "data": {
      "image/png": "[encoded data removed]",
      "text/plain": [
       "<Figure size 576x684 with 1 Axes>"
      ]
     },
     "metadata": {
      "needs_background": "light"
     },
     "output_type": "display_data"
    }
   ],
   "source": [
    "shap.summary_plot(out, test_sets[0][0])"
   ]
  },
  {
   "cell_type": "markdown",
   "id": "61a18d9b",
   "metadata": {},
   "source": [
    "Хотел посчитать out-of-fold shap values, но, к сожалению, это занимает очень много времени, поэтому оставлю для одного фолда. Вряд ли мы увидим сильно отличающиеся результаты на остальных фолдах, так как у нас немного фич и метрики на фолдах довольно близки"
   ]
  },
  {
   "cell_type": "markdown",
   "id": "6bba1849",
   "metadata": {},
   "source": [
    "Видно, что предсказание Word2Vec полезно, так как оно стало самой важной фичей. Опять же, скорее всего, потому что фичи для LGBM и фичи из Word2Vec сильно отличаются, а значит последние докидывают информацию "
   ]
  },
  {
   "cell_type": "code",
   "execution_count": null,
   "id": "ed484ac0",
   "metadata": {},
   "outputs": [],
   "source": []
  }
 ],
 "metadata": {
  "kernelspec": {
   "display_name": "PyCharm (hse_recsys)",
   "language": "python",
   "name": "pycharm-ecd2752e"
  },
  "language_info": {
   "codemirror_mode": {
    "name": "ipython",
    "version": 3
   },
   "file_extension": ".py",
   "mimetype": "text/x-python",
   "name": "python",
   "nbconvert_exporter": "python",
   "pygments_lexer": "ipython3",
   "version": "3.9.7"
  }
 },
 "nbformat": 4,
 "nbformat_minor": 5
}
