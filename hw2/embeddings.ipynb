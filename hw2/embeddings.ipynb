{
 "cells": [
  {
   "cell_type": "code",
   "execution_count": 1,
   "id": "2c074a69",
   "metadata": {},
   "outputs": [],
   "source": [
    "import pickle\n",
    "\n",
    "from gensim.models import Word2Vec\n",
    "import lightgbm as lgb\n",
    "import numpy as np\n",
    "import pandas as pd\n",
    "\n",
    "from sklearn.model_selection import GroupKFold\n",
    "from sklearn.metrics import roc_auc_score\n",
    "\n",
    "from tqdm.auto import tqdm"
   ]
  },
  {
   "cell_type": "code",
   "execution_count": 2,
   "id": "f3dd44d1",
   "metadata": {},
   "outputs": [],
   "source": [
    "df = pd.read_parquet('./data/featurized.parquet')\n",
    "sorted_df = df.sort_values(by='msno').reset_index(drop=True)"
   ]
  },
  {
   "cell_type": "code",
   "execution_count": 3,
   "id": "ba7394e5",
   "metadata": {},
   "outputs": [],
   "source": [
    "del df"
   ]
  },
  {
   "cell_type": "code",
   "execution_count": 4,
   "id": "0e19cd84",
   "metadata": {},
   "outputs": [],
   "source": [
    "X = sorted_df.iloc[:, :-1]\n",
    "y = sorted_df.iloc[:, -1]"
   ]
  },
  {
   "cell_type": "markdown",
   "id": "7354da1e",
   "metadata": {},
   "source": [
    "## Word2Vec embeddings"
   ]
  },
  {
   "cell_type": "code",
   "execution_count": 5,
   "id": "f00b751f",
   "metadata": {},
   "outputs": [],
   "source": [
    "def w2v_fit(df):\n",
    "    # group positives by user id to create user to sentence mapping\n",
    "    user2sentence = df[df['target'] == 1].groupby('msno')['song_id'].apply(list).to_dict()\n",
    "    w2v = Word2Vec(vector_size=64, window=5)\n",
    "    w2v.build_vocab(list(user2sentence.values()))\n",
    "    w2v.train(list(user2sentence.values()), total_examples=w2v.corpus_count, epochs=10)\n",
    "    return w2v\n",
    "\n",
    "\n",
    "def get_song_embeddings(w2v):\n",
    "    return pd.DataFrame(\n",
    "        {'song_id': list(w2v.wv.key_to_index.keys()), 'song_emb': list(w2v.wv.vectors)}\n",
    "    )\n",
    "\n",
    "def get_user_embeddings(w2v, df):\n",
    "    # User embedding is the mean of its positives' embeddings\n",
    "    def get_user_embedding(sentence):\n",
    "        sentence = [x_ for x_ in sentence if x_ in w2v.wv]\n",
    "        if len(sentence) == 0:\n",
    "            # Zeros if the user didn't like anything (can be replaced with mean embedding, for example)\n",
    "            return np.zeros(w2v.vector_size)\n",
    "        return np.mean(w2v.wv[sentence], axis=0)\n",
    "    \n",
    "    return pd.DataFrame(\n",
    "        df[df['target'] == 1].groupby('msno')['song_id'].apply(get_user_embedding)\n",
    "    ).reset_index().rename({'song_id': 'user_emb'}, axis=1)\n",
    "\n",
    "def w2v_predict(w2v, df):\n",
    "    song_embs = get_song_embeddings(w2v)\n",
    "    user_embs = get_user_embeddings(w2v, df)\n",
    "    \n",
    "    out = df[['msno', 'song_id']]\n",
    "    out = out.merge(song_embs, on='song_id', how='left').merge(user_embs, on='msno', how='left')\n",
    "    \n",
    "    song_embs = np.array(\n",
    "        [e if not np.isnan(e).any() else np.full(w2v.vector_size, np.nan) for e in out['song_emb'].tolist()]\n",
    "    )\n",
    "    user_embs = np.array(\n",
    "        [e if not np.isnan(e).any() else np.full(w2v.vector_size, np.nan) for e in out['user_emb'].tolist()]\n",
    "    )\n",
    "    out.drop(['song_emb', 'user_emb'], axis=1, inplace=True)\n",
    "    # Dot product\n",
    "    out['pred'] = np.sum(song_embs * user_embs, axis=1)\n",
    "    # Fill NaN predictions with median\n",
    "    out['pred'] = out['pred'].fillna(out['pred'].median())\n",
    "    # Rescale for ROC-AUC computation\n",
    "    out['pred'] = (out['pred'] - out['pred'].min()) / (out['pred'].max() - out['pred'].min())\n",
    "    return out['pred'].values"
   ]
  },
  {
   "cell_type": "code",
   "execution_count": 6,
   "id": "68ca8f8d",
   "metadata": {},
   "outputs": [],
   "source": [
    "w2v = w2v_fit(sorted_df)"
   ]
  },
  {
   "cell_type": "code",
   "execution_count": 7,
   "id": "d46132fa",
   "metadata": {},
   "outputs": [],
   "source": [
    "songs = pd.read_csv('./data/songs.csv')"
   ]
  },
  {
   "cell_type": "code",
   "execution_count": 8,
   "id": "370ad153",
   "metadata": {},
   "outputs": [],
   "source": [
    "def get_similars_for_song(idx: int):\n",
    "    if songs.song_id[idx] in w2v.wv:\n",
    "        return songs[np.isin(songs.song_id, list(map(lambda x: x[0], w2v.wv.similar_by_key(songs.song_id[idx]))))]"
   ]
  },
  {
   "cell_type": "code",
   "execution_count": 9,
   "id": "7c751f47",
   "metadata": {},
   "outputs": [
    {
     "data": {
      "text/html": [
       "<div>\n",
       "<style scoped>\n",
       "    .dataframe tbody tr th:only-of-type {\n",
       "        vertical-align: middle;\n",
       "    }\n",
       "\n",
       "    .dataframe tbody tr th {\n",
       "        vertical-align: top;\n",
       "    }\n",
       "\n",
       "    .dataframe thead th {\n",
       "        text-align: right;\n",
       "    }\n",
       "</style>\n",
       "<table border=\"1\" class=\"dataframe\">\n",
       "  <thead>\n",
       "    <tr style=\"text-align: right;\">\n",
       "      <th></th>\n",
       "      <th>song_id</th>\n",
       "      <th>song_length</th>\n",
       "      <th>genre_ids</th>\n",
       "      <th>artist_name</th>\n",
       "      <th>composer</th>\n",
       "      <th>lyricist</th>\n",
       "      <th>language</th>\n",
       "    </tr>\n",
       "  </thead>\n",
       "  <tbody>\n",
       "    <tr>\n",
       "      <th>0</th>\n",
       "      <td>CXoTN1eb7AI+DntdU1vbcwGRV4SCIDxZu+YD8JP8r4E=</td>\n",
       "      <td>247640</td>\n",
       "      <td>465</td>\n",
       "      <td>張信哲 (Jeff Chang)</td>\n",
       "      <td>董貞</td>\n",
       "      <td>何啟弘</td>\n",
       "      <td>3.0</td>\n",
       "    </tr>\n",
       "    <tr>\n",
       "      <th>1</th>\n",
       "      <td>o0kFgae9QtnYgRkVPqLJwa05zIhRlUjfF7O1tDw0ZDU=</td>\n",
       "      <td>197328</td>\n",
       "      <td>444</td>\n",
       "      <td>BLACKPINK</td>\n",
       "      <td>TEDDY|  FUTURE BOUNCE|  Bekuh BOOM</td>\n",
       "      <td>TEDDY</td>\n",
       "      <td>31.0</td>\n",
       "    </tr>\n",
       "  </tbody>\n",
       "</table>\n",
       "</div>"
      ],
      "text/plain": [
       "                                        song_id  song_length genre_ids  \\\n",
       "0  CXoTN1eb7AI+DntdU1vbcwGRV4SCIDxZu+YD8JP8r4E=       247640       465   \n",
       "1  o0kFgae9QtnYgRkVPqLJwa05zIhRlUjfF7O1tDw0ZDU=       197328       444   \n",
       "\n",
       "        artist_name                            composer lyricist  language  \n",
       "0  張信哲 (Jeff Chang)                                  董貞      何啟弘       3.0  \n",
       "1         BLACKPINK  TEDDY|  FUTURE BOUNCE|  Bekuh BOOM    TEDDY      31.0  "
      ]
     },
     "execution_count": 9,
     "metadata": {},
     "output_type": "execute_result"
    }
   ],
   "source": [
    "songs.head(2)"
   ]
  },
  {
   "cell_type": "code",
   "execution_count": 10,
   "id": "7a59cdd0",
   "metadata": {},
   "outputs": [
    {
     "data": {
      "text/html": [
       "<div>\n",
       "<style scoped>\n",
       "    .dataframe tbody tr th:only-of-type {\n",
       "        vertical-align: middle;\n",
       "    }\n",
       "\n",
       "    .dataframe tbody tr th {\n",
       "        vertical-align: top;\n",
       "    }\n",
       "\n",
       "    .dataframe thead th {\n",
       "        text-align: right;\n",
       "    }\n",
       "</style>\n",
       "<table border=\"1\" class=\"dataframe\">\n",
       "  <thead>\n",
       "    <tr style=\"text-align: right;\">\n",
       "      <th></th>\n",
       "      <th>song_id</th>\n",
       "      <th>song_length</th>\n",
       "      <th>genre_ids</th>\n",
       "      <th>artist_name</th>\n",
       "      <th>composer</th>\n",
       "      <th>lyricist</th>\n",
       "      <th>language</th>\n",
       "    </tr>\n",
       "  </thead>\n",
       "  <tbody>\n",
       "    <tr>\n",
       "      <th>21953</th>\n",
       "      <td>IcqHoRpDaqQoLM5k9HuyaLXEAvjP6/q1XFOcJQEQ3co=</td>\n",
       "      <td>255555</td>\n",
       "      <td>465</td>\n",
       "      <td>郭富城 (Aaron Kwok)</td>\n",
       "      <td>Xu Jia Liang</td>\n",
       "      <td>Jiang Dong Liang</td>\n",
       "      <td>3.0</td>\n",
       "    </tr>\n",
       "    <tr>\n",
       "      <th>64283</th>\n",
       "      <td>m1ooG9GWPztHGlIcN4duM8N27Kgq+qzuLzQjZrWae50=</td>\n",
       "      <td>273414</td>\n",
       "      <td>465</td>\n",
       "      <td>內地華語精選</td>\n",
       "      <td>NaN</td>\n",
       "      <td>NaN</td>\n",
       "      <td>3.0</td>\n",
       "    </tr>\n",
       "    <tr>\n",
       "      <th>69704</th>\n",
       "      <td>Ne3gt5pb1Po6yrMD17GdSmPsrDt4ze0wXPWVnOzqqJk=</td>\n",
       "      <td>341002</td>\n",
       "      <td>465</td>\n",
       "      <td>王傑 (Dave Wang)</td>\n",
       "      <td>Wang Chieh</td>\n",
       "      <td>Zhang Fan-Lu</td>\n",
       "      <td>3.0</td>\n",
       "    </tr>\n",
       "    <tr>\n",
       "      <th>70347</th>\n",
       "      <td>iSyt9oqfZlIP+e6saYpChAYjgeVh9UtrvyaLkMBViSI=</td>\n",
       "      <td>251297</td>\n",
       "      <td>465</td>\n",
       "      <td>阿吉仔</td>\n",
       "      <td>吳微傑</td>\n",
       "      <td>吳微傑</td>\n",
       "      <td>10.0</td>\n",
       "    </tr>\n",
       "    <tr>\n",
       "      <th>108696</th>\n",
       "      <td>o7ns0pR+JM+01ZvelRJ0HdLbYFk3As/uc2DCspcpglc=</td>\n",
       "      <td>234057</td>\n",
       "      <td>465</td>\n",
       "      <td>任賢齊 (Richie Jen)</td>\n",
       "      <td>NaN</td>\n",
       "      <td>NaN</td>\n",
       "      <td>3.0</td>\n",
       "    </tr>\n",
       "    <tr>\n",
       "      <th>526815</th>\n",
       "      <td>RtXifchS0iqhzcabF5+9fTOmZS5vmWyX9XGADpJVuPM=</td>\n",
       "      <td>221518</td>\n",
       "      <td>465</td>\n",
       "      <td>卓文萱 (Genie Zhuo)</td>\n",
       "      <td>CSHA</td>\n",
       "      <td>CSHA+洪嘉濃</td>\n",
       "      <td>3.0</td>\n",
       "    </tr>\n",
       "    <tr>\n",
       "      <th>605286</th>\n",
       "      <td>MIsT4C5VzofCGUpRKfYcOGD+gN+qQ+wZ/dMNRLAVf6g=</td>\n",
       "      <td>334889</td>\n",
       "      <td>465</td>\n",
       "      <td>張信哲 (Jeff Chang)</td>\n",
       "      <td>NaN</td>\n",
       "      <td>NaN</td>\n",
       "      <td>3.0</td>\n",
       "    </tr>\n",
       "    <tr>\n",
       "      <th>847325</th>\n",
       "      <td>Sh1IbM0v8W3z5B6f1yW7qfY7QJQUgAC1R+1PzGCv5Uk=</td>\n",
       "      <td>158592</td>\n",
       "      <td>465</td>\n",
       "      <td>容祖兒 (Joey Yung)</td>\n",
       "      <td>顧嘉煇</td>\n",
       "      <td>黃霑</td>\n",
       "      <td>24.0</td>\n",
       "    </tr>\n",
       "    <tr>\n",
       "      <th>1759086</th>\n",
       "      <td>tE7tTl7CpySXbq2nG470/jpokUJ8wEUIf41C7+fcpxo=</td>\n",
       "      <td>269270</td>\n",
       "      <td>465</td>\n",
       "      <td>那英</td>\n",
       "      <td>潘協慶</td>\n",
       "      <td>那英</td>\n",
       "      <td>3.0</td>\n",
       "    </tr>\n",
       "    <tr>\n",
       "      <th>2250892</th>\n",
       "      <td>XuPGygs8w53ZHDZKPuiZovalNnpGMzOE5gWFM5o8RE8=</td>\n",
       "      <td>274181</td>\n",
       "      <td>921|465</td>\n",
       "      <td>天地風雲錄之劍影魔蹤原聲帶</td>\n",
       "      <td>Kenneth Yang</td>\n",
       "      <td>Kenneth Yang</td>\n",
       "      <td>10.0</td>\n",
       "    </tr>\n",
       "  </tbody>\n",
       "</table>\n",
       "</div>"
      ],
      "text/plain": [
       "                                              song_id  song_length genre_ids  \\\n",
       "21953    IcqHoRpDaqQoLM5k9HuyaLXEAvjP6/q1XFOcJQEQ3co=       255555       465   \n",
       "64283    m1ooG9GWPztHGlIcN4duM8N27Kgq+qzuLzQjZrWae50=       273414       465   \n",
       "69704    Ne3gt5pb1Po6yrMD17GdSmPsrDt4ze0wXPWVnOzqqJk=       341002       465   \n",
       "70347    iSyt9oqfZlIP+e6saYpChAYjgeVh9UtrvyaLkMBViSI=       251297       465   \n",
       "108696   o7ns0pR+JM+01ZvelRJ0HdLbYFk3As/uc2DCspcpglc=       234057       465   \n",
       "526815   RtXifchS0iqhzcabF5+9fTOmZS5vmWyX9XGADpJVuPM=       221518       465   \n",
       "605286   MIsT4C5VzofCGUpRKfYcOGD+gN+qQ+wZ/dMNRLAVf6g=       334889       465   \n",
       "847325   Sh1IbM0v8W3z5B6f1yW7qfY7QJQUgAC1R+1PzGCv5Uk=       158592       465   \n",
       "1759086  tE7tTl7CpySXbq2nG470/jpokUJ8wEUIf41C7+fcpxo=       269270       465   \n",
       "2250892  XuPGygs8w53ZHDZKPuiZovalNnpGMzOE5gWFM5o8RE8=       274181   921|465   \n",
       "\n",
       "              artist_name      composer          lyricist  language  \n",
       "21953    郭富城 (Aaron Kwok)  Xu Jia Liang  Jiang Dong Liang       3.0  \n",
       "64283              內地華語精選           NaN               NaN       3.0  \n",
       "69704      王傑 (Dave Wang)    Wang Chieh      Zhang Fan-Lu       3.0  \n",
       "70347                 阿吉仔           吳微傑               吳微傑      10.0  \n",
       "108696   任賢齊 (Richie Jen)           NaN               NaN       3.0  \n",
       "526815   卓文萱 (Genie Zhuo)          CSHA          CSHA+洪嘉濃       3.0  \n",
       "605286   張信哲 (Jeff Chang)           NaN               NaN       3.0  \n",
       "847325    容祖兒 (Joey Yung)           顧嘉煇                黃霑      24.0  \n",
       "1759086                那英           潘協慶                那英       3.0  \n",
       "2250892     天地風雲錄之劍影魔蹤原聲帶  Kenneth Yang      Kenneth Yang      10.0  "
      ]
     },
     "execution_count": 10,
     "metadata": {},
     "output_type": "execute_result"
    }
   ],
   "source": [
    "# Looks reasonable\n",
    "get_similars_for_song(0)"
   ]
  },
  {
   "cell_type": "code",
   "execution_count": 11,
   "id": "8d3446f7",
   "metadata": {},
   "outputs": [
    {
     "data": {
      "text/html": [
       "<div>\n",
       "<style scoped>\n",
       "    .dataframe tbody tr th:only-of-type {\n",
       "        vertical-align: middle;\n",
       "    }\n",
       "\n",
       "    .dataframe tbody tr th {\n",
       "        vertical-align: top;\n",
       "    }\n",
       "\n",
       "    .dataframe thead th {\n",
       "        text-align: right;\n",
       "    }\n",
       "</style>\n",
       "<table border=\"1\" class=\"dataframe\">\n",
       "  <thead>\n",
       "    <tr style=\"text-align: right;\">\n",
       "      <th></th>\n",
       "      <th>song_id</th>\n",
       "      <th>song_length</th>\n",
       "      <th>genre_ids</th>\n",
       "      <th>artist_name</th>\n",
       "      <th>composer</th>\n",
       "      <th>lyricist</th>\n",
       "      <th>language</th>\n",
       "    </tr>\n",
       "  </thead>\n",
       "  <tbody>\n",
       "    <tr>\n",
       "      <th>2697</th>\n",
       "      <td>f+kUjlxaL1nKJ2FZCOkc40O8YHvA5KJY24ykMh3qXII=</td>\n",
       "      <td>203546</td>\n",
       "      <td>444</td>\n",
       "      <td>I.O.I</td>\n",
       "      <td>NaN</td>\n",
       "      <td>NaN</td>\n",
       "      <td>31.0</td>\n",
       "    </tr>\n",
       "    <tr>\n",
       "      <th>41493</th>\n",
       "      <td>yv4Nasbw8r06KtMHzaEMF/SrpYPv+V73JrwFClUoRQ0=</td>\n",
       "      <td>221982</td>\n",
       "      <td>444</td>\n",
       "      <td>Taeyeon</td>\n",
       "      <td>Bong Eun Young|Yu Jin Lee|Mafly|Matthew Tishle...</td>\n",
       "      <td>NaN</td>\n",
       "      <td>31.0</td>\n",
       "    </tr>\n",
       "    <tr>\n",
       "      <th>57541</th>\n",
       "      <td>OCf6ja6rohWVy5UBE/XTSOf9YxiMrkCIaLTkFQ+nNf8=</td>\n",
       "      <td>212453</td>\n",
       "      <td>444</td>\n",
       "      <td>BLACKPINK</td>\n",
       "      <td>TEDDY|  FUTURE BOUNCE|  Bekuh BOOM</td>\n",
       "      <td>TEDDY|  Bekuh BOOM</td>\n",
       "      <td>31.0</td>\n",
       "    </tr>\n",
       "    <tr>\n",
       "      <th>93670</th>\n",
       "      <td>0PSoBhrpfwF09qQKvTiItwZNPjOuyL0uoTazKevG8ls=</td>\n",
       "      <td>223375</td>\n",
       "      <td>444</td>\n",
       "      <td>Taeyeon</td>\n",
       "      <td>Kim Ea Na| Christian Vinten| Chelcee Grimes</td>\n",
       "      <td>NaN</td>\n",
       "      <td>31.0</td>\n",
       "    </tr>\n",
       "    <tr>\n",
       "      <th>95000</th>\n",
       "      <td>uzU6ntNZT60j0CqFNXTpF6Oo8W3w5UwU/ANEODidW04=</td>\n",
       "      <td>208793</td>\n",
       "      <td>444</td>\n",
       "      <td>TWICE</td>\n",
       "      <td>Black Eyed V</td>\n",
       "      <td>NaN</td>\n",
       "      <td>31.0</td>\n",
       "    </tr>\n",
       "    <tr>\n",
       "      <th>96339</th>\n",
       "      <td>JuOOeJJjt5Dgbug0czZ6Mv25AJMtVAukaoxz8T/JX7c=</td>\n",
       "      <td>230373</td>\n",
       "      <td>444</td>\n",
       "      <td>BLACKPINK</td>\n",
       "      <td>TEDDY|  SEO WON JIN</td>\n",
       "      <td>TEDDY</td>\n",
       "      <td>31.0</td>\n",
       "    </tr>\n",
       "    <tr>\n",
       "      <th>123099</th>\n",
       "      <td>w4Zku7HxtkAKl/BB8H81ZfWOXwnnmVbZBvFZeRPuRUU=</td>\n",
       "      <td>216967</td>\n",
       "      <td>444</td>\n",
       "      <td>BANGTAN BOYS</td>\n",
       "      <td>Pdogg| Rap Monster| Suga| J-hope| \"hitman\"bang...</td>\n",
       "      <td>NaN</td>\n",
       "      <td>31.0</td>\n",
       "    </tr>\n",
       "    <tr>\n",
       "      <th>287598</th>\n",
       "      <td>rcPNzl8xjj74tjZDop961+ugDVJKx4mdgh7L1xJ85FI=</td>\n",
       "      <td>240822</td>\n",
       "      <td>444</td>\n",
       "      <td>BLACKPINK</td>\n",
       "      <td>TEDDY|  Bekuh BOOM</td>\n",
       "      <td>TEDDY|  Bekuh BOOM</td>\n",
       "      <td>31.0</td>\n",
       "    </tr>\n",
       "    <tr>\n",
       "      <th>333096</th>\n",
       "      <td>VkILU0H1h3NMmk9MQrXouNudGk5n8Ls5cqRRuBxeTh4=</td>\n",
       "      <td>229982</td>\n",
       "      <td>465</td>\n",
       "      <td>BIGBANG TAEYANG</td>\n",
       "      <td>TEDDY| DEE.P| Rebecca Johnson</td>\n",
       "      <td>TEDDY| TAEYANG</td>\n",
       "      <td>31.0</td>\n",
       "    </tr>\n",
       "    <tr>\n",
       "      <th>1401790</th>\n",
       "      <td>kE+FVLsG03zTzYoGVDqTmVkoSKC9DjJwQr2puF6MkOI=</td>\n",
       "      <td>211670</td>\n",
       "      <td>444</td>\n",
       "      <td>BLACKPINK</td>\n",
       "      <td>TEDDY|  FUTURE BOUNCE|  Bekuh BOOM</td>\n",
       "      <td>TEDDY|  Bekuh BOOM</td>\n",
       "      <td>31.0</td>\n",
       "    </tr>\n",
       "  </tbody>\n",
       "</table>\n",
       "</div>"
      ],
      "text/plain": [
       "                                              song_id  song_length genre_ids  \\\n",
       "2697     f+kUjlxaL1nKJ2FZCOkc40O8YHvA5KJY24ykMh3qXII=       203546       444   \n",
       "41493    yv4Nasbw8r06KtMHzaEMF/SrpYPv+V73JrwFClUoRQ0=       221982       444   \n",
       "57541    OCf6ja6rohWVy5UBE/XTSOf9YxiMrkCIaLTkFQ+nNf8=       212453       444   \n",
       "93670    0PSoBhrpfwF09qQKvTiItwZNPjOuyL0uoTazKevG8ls=       223375       444   \n",
       "95000    uzU6ntNZT60j0CqFNXTpF6Oo8W3w5UwU/ANEODidW04=       208793       444   \n",
       "96339    JuOOeJJjt5Dgbug0czZ6Mv25AJMtVAukaoxz8T/JX7c=       230373       444   \n",
       "123099   w4Zku7HxtkAKl/BB8H81ZfWOXwnnmVbZBvFZeRPuRUU=       216967       444   \n",
       "287598   rcPNzl8xjj74tjZDop961+ugDVJKx4mdgh7L1xJ85FI=       240822       444   \n",
       "333096   VkILU0H1h3NMmk9MQrXouNudGk5n8Ls5cqRRuBxeTh4=       229982       465   \n",
       "1401790  kE+FVLsG03zTzYoGVDqTmVkoSKC9DjJwQr2puF6MkOI=       211670       444   \n",
       "\n",
       "             artist_name                                           composer  \\\n",
       "2697               I.O.I                                                NaN   \n",
       "41493            Taeyeon  Bong Eun Young|Yu Jin Lee|Mafly|Matthew Tishle...   \n",
       "57541          BLACKPINK                 TEDDY|  FUTURE BOUNCE|  Bekuh BOOM   \n",
       "93670            Taeyeon        Kim Ea Na| Christian Vinten| Chelcee Grimes   \n",
       "95000              TWICE                                       Black Eyed V   \n",
       "96339          BLACKPINK                                TEDDY|  SEO WON JIN   \n",
       "123099      BANGTAN BOYS  Pdogg| Rap Monster| Suga| J-hope| \"hitman\"bang...   \n",
       "287598         BLACKPINK                                 TEDDY|  Bekuh BOOM   \n",
       "333096   BIGBANG TAEYANG                      TEDDY| DEE.P| Rebecca Johnson   \n",
       "1401790        BLACKPINK                 TEDDY|  FUTURE BOUNCE|  Bekuh BOOM   \n",
       "\n",
       "                   lyricist  language  \n",
       "2697                    NaN      31.0  \n",
       "41493                   NaN      31.0  \n",
       "57541    TEDDY|  Bekuh BOOM      31.0  \n",
       "93670                   NaN      31.0  \n",
       "95000                   NaN      31.0  \n",
       "96339                 TEDDY      31.0  \n",
       "123099                  NaN      31.0  \n",
       "287598   TEDDY|  Bekuh BOOM      31.0  \n",
       "333096       TEDDY| TAEYANG      31.0  \n",
       "1401790  TEDDY|  Bekuh BOOM      31.0  "
      ]
     },
     "execution_count": 11,
     "metadata": {},
     "output_type": "execute_result"
    }
   ],
   "source": [
    "# Same here\n",
    "get_similars_for_song(1)"
   ]
  },
  {
   "cell_type": "markdown",
   "id": "2b332b94",
   "metadata": {},
   "source": [
    "## Word2Vec as a predictor model"
   ]
  },
  {
   "cell_type": "code",
   "execution_count": 12,
   "id": "c8c23977",
   "metadata": {},
   "outputs": [
    {
     "data": {
      "application/vnd.jupyter.widget-view+json": {
       "model_id": "92f51529d93b4c759565f20e531552d7",
       "version_major": 2,
       "version_minor": 0
      },
      "text/plain": [
       "  0%|          | 0/5 [00:00<?, ?it/s]"
      ]
     },
     "metadata": {},
     "output_type": "display_data"
    }
   ],
   "source": [
    "# 5 fold CV\n",
    "preds = np.zeros_like(y, dtype=float)\n",
    "models = []\n",
    "for train_idx, test_idx in tqdm(GroupKFold(5).split(X, y, sorted_df['msno']), total=5):\n",
    "    w2v = w2v_fit(sorted_df.iloc[train_idx])\n",
    "    preds[test_idx] = w2v_predict(w2v, sorted_df.iloc[test_idx])"
   ]
  },
  {
   "cell_type": "code",
   "execution_count": 13,
   "id": "ba2994b0",
   "metadata": {},
   "outputs": [
    {
     "data": {
      "text/plain": [
       "0.5768241105367831"
      ]
     },
     "execution_count": 13,
     "metadata": {},
     "output_type": "execute_result"
    }
   ],
   "source": [
    "# OOF ROC-AUC\n",
    "roc_auc_score(y, preds)"
   ]
  },
  {
   "cell_type": "code",
   "execution_count": 14,
   "id": "55b7e77f",
   "metadata": {},
   "outputs": [],
   "source": [
    "def mean_user_auc(y_true, y_pred, group):\n",
    "    out = 0.\n",
    "    i = 0\n",
    "    valid_user_count = 0\n",
    "    for j in np.cumsum(group):\n",
    "        if j - i < 2 or len(set(y_true[i:j])) < 2:\n",
    "            continue\n",
    "        out += roc_auc_score(y_true[i:j], y_pred[i:j])\n",
    "        valid_user_count += 1\n",
    "        i = j\n",
    "    out /= valid_user_count\n",
    "    \n",
    "    return out"
   ]
  },
  {
   "cell_type": "code",
   "execution_count": 15,
   "id": "8efdcbae",
   "metadata": {},
   "outputs": [
    {
     "data": {
      "text/plain": [
       "0.6773920374407998"
      ]
     },
     "execution_count": 15,
     "metadata": {},
     "output_type": "execute_result"
    }
   ],
   "source": [
    "# Mean User ROC-AUC\n",
    "mean_user_auc(y, preds, sorted_df.groupby('msno')['song_id'].count().tolist())"
   ]
  },
  {
   "cell_type": "markdown",
   "id": "ebd3328e",
   "metadata": {},
   "source": [
    "Интересно, что по обычному ROC-AUC LGBM сильно лучше (~0.8), однако по Mean User AUC впереди эмбеддинги Word2Vec.\n",
    "Скорее всего такое поведение обуславливается извлеченными фичами. Word2Vec учитывает частоты для песен, юзеров, а LGBM использует более \"глобальные\" фичи, вроде имен исполнителей, композиторов, длительности трека и т.д."
   ]
  },
  {
   "cell_type": "markdown",
   "id": "5ded05f3",
   "metadata": {},
   "source": [
    "## Ensembling"
   ]
  },
  {
   "cell_type": "code",
   "execution_count": 16,
   "id": "692d524d",
   "metadata": {},
   "outputs": [],
   "source": [
    "def lgb_mean_user_auc(y_pred, train_data):\n",
    "    out = mean_user_auc(train_data.label, y_pred, train_data.group)\n",
    "    return 'mean_user_auc', out, True\n",
    "\n",
    "\n",
    "def train_lgb_w2v_blend(df, params):\n",
    "    X = df.iloc[:, :-1]\n",
    "    groups = df.iloc[:, 0]\n",
    "    y = df.iloc[:, -1]\n",
    "    \n",
    "    preds = np.zeros_like(y, dtype=float)\n",
    "    models = []\n",
    "    test_sets = []\n",
    "    \n",
    "    for train_idx, test_idx in GroupKFold(5).split(X, y, groups):\n",
    "        train_group = groups.iloc[train_idx].groupby(groups.iloc[train_idx].values).count().tolist()\n",
    "        test_group = groups.iloc[test_idx].groupby(groups.iloc[test_idx].values).count().tolist()\n",
    "        \n",
    "        w2v = w2v_fit(sorted_df.iloc[train_idx])\n",
    "        w2v_train = w2v_predict(w2v, sorted_df.iloc[train_idx])\n",
    "        w2v_test = w2v_predict(w2v, sorted_df.iloc[test_idx])\n",
    "        \n",
    "        X_train = X.iloc[train_idx, 1:].copy()\n",
    "        X_train['w2v'] = w2v_train\n",
    "        X_test = X.iloc[test_idx, 1:].copy()\n",
    "        X_test['w2v'] = w2v_test\n",
    "        \n",
    "        train_ds = lgb.Dataset(X_train, y.iloc[train_idx], group=train_group)\n",
    "        test_ds = lgb.Dataset(X_test, y.iloc[test_idx], group=test_group)\n",
    "        \n",
    "        test_sets.append((X_test, y.iloc[test_idx]))\n",
    "\n",
    "        # We can use early stopping because of the holdout set existence (\"./data/test.csv\")\n",
    "        # In a real world application we would tune the model on a CV and \n",
    "        # measure the best model performance on the holdout\n",
    "        # However, 100 boosting rounds is too few and the model is still underfit\n",
    "        model = lgb.train(\n",
    "            params, \n",
    "            train_set=train_ds, \n",
    "            valid_sets=test_ds, \n",
    "            fobj=None, \n",
    "            feval=lgb_mean_user_auc, \n",
    "            verbose_eval=5, \n",
    "            early_stopping_rounds=25\n",
    "        )\n",
    "        models.append((model, w2v))\n",
    "        preds[test_idx] = model.predict(X_test)\n",
    "        \n",
    "    return preds, models, test_sets"
   ]
  },
  {
   "cell_type": "code",
   "execution_count": 17,
   "id": "15a42908",
   "metadata": {},
   "outputs": [],
   "source": [
    "# LGB params from kaggle, slightly modified\n",
    "params = {\n",
    "    'objective': 'lambdarank',\n",
    "    'metric': 'None',\n",
    "    'boosting': 'gbdt',\n",
    "    'learning_rate': 0.2 ,\n",
    "    'verbose': 0,\n",
    "    'num_leaves': 100,\n",
    "    'bagging_fraction': 0.95,\n",
    "    'bagging_freq': 1,\n",
    "    'bagging_seed': 1,\n",
    "    'feature_fraction': 0.9,\n",
    "    'feature_fraction_seed': 1,\n",
    "    'max_bin': 256,\n",
    "    'num_rounds': 50,\n",
    "}"
   ]
  },
  {
   "cell_type": "code",
   "execution_count": 18,
   "id": "c3116443",
   "metadata": {
    "scrolled": false
   },
   "outputs": [
    {
     "name": "stderr",
     "output_type": "stream",
     "text": [
      "/Users/dmitry/.conda/envs/hse_recsys/lib/python3.9/site-packages/lightgbm/engine.py:177: UserWarning: Found `num_rounds` in params. Will use it instead of argument\n",
      "  _log_warning(f\"Found `{alias}` in params. Will use it instead of argument\")\n",
      "/Users/dmitry/.conda/envs/hse_recsys/lib/python3.9/site-packages/lightgbm/engine.py:181: UserWarning: 'early_stopping_rounds' argument is deprecated and will be removed in a future release of LightGBM. Pass 'early_stopping()' callback via 'callbacks' argument instead.\n",
      "  _log_warning(\"'early_stopping_rounds' argument is deprecated and will be removed in a future release of LightGBM. \"\n",
      "/Users/dmitry/.conda/envs/hse_recsys/lib/python3.9/site-packages/lightgbm/engine.py:239: UserWarning: 'verbose_eval' argument is deprecated and will be removed in a future release of LightGBM. Pass 'log_evaluation()' callback via 'callbacks' argument instead.\n",
      "  _log_warning(\"'verbose_eval' argument is deprecated and will be removed in a future release of LightGBM. \"\n"
     ]
    },
    {
     "name": "stdout",
     "output_type": "stream",
     "text": [
      "[LightGBM] [Warning] Auto-choosing row-wise multi-threading, the overhead of testing was 0.338158 seconds.\n",
      "You can set `force_row_wise=true` to remove the overhead.\n",
      "And if memory is not enough, you can set `force_col_wise=true`.\n"
     ]
    },
    {
     "name": "stderr",
     "output_type": "stream",
     "text": [
      "/Users/dmitry/.conda/envs/hse_recsys/lib/python3.9/site-packages/lightgbm/basic.py:1780: UserWarning: Overriding the parameters from Reference Dataset.\n",
      "  _log_warning('Overriding the parameters from Reference Dataset.')\n",
      "/Users/dmitry/.conda/envs/hse_recsys/lib/python3.9/site-packages/lightgbm/basic.py:1513: UserWarning: categorical_column in param dict is overridden.\n",
      "  _log_warning(f'{cat_alias} in param dict is overridden.')\n"
     ]
    },
    {
     "name": "stdout",
     "output_type": "stream",
     "text": [
      "Training until validation scores don't improve for 25 rounds\n",
      "[5]\tvalid_0's mean_user_auc: 0.703258\n",
      "[10]\tvalid_0's mean_user_auc: 0.709047\n",
      "[15]\tvalid_0's mean_user_auc: 0.717588\n",
      "[20]\tvalid_0's mean_user_auc: 0.720004\n",
      "[25]\tvalid_0's mean_user_auc: 0.723693\n",
      "[30]\tvalid_0's mean_user_auc: 0.723414\n",
      "[35]\tvalid_0's mean_user_auc: 0.724343\n",
      "[40]\tvalid_0's mean_user_auc: 0.723712\n",
      "[45]\tvalid_0's mean_user_auc: 0.723309\n",
      "[50]\tvalid_0's mean_user_auc: 0.724021\n",
      "Did not meet early stopping. Best iteration is:\n",
      "[26]\tvalid_0's mean_user_auc: 0.724494\n"
     ]
    },
    {
     "name": "stderr",
     "output_type": "stream",
     "text": [
      "/Users/dmitry/.conda/envs/hse_recsys/lib/python3.9/site-packages/lightgbm/engine.py:177: UserWarning: Found `num_rounds` in params. Will use it instead of argument\n",
      "  _log_warning(f\"Found `{alias}` in params. Will use it instead of argument\")\n",
      "/Users/dmitry/.conda/envs/hse_recsys/lib/python3.9/site-packages/lightgbm/engine.py:181: UserWarning: 'early_stopping_rounds' argument is deprecated and will be removed in a future release of LightGBM. Pass 'early_stopping()' callback via 'callbacks' argument instead.\n",
      "  _log_warning(\"'early_stopping_rounds' argument is deprecated and will be removed in a future release of LightGBM. \"\n",
      "/Users/dmitry/.conda/envs/hse_recsys/lib/python3.9/site-packages/lightgbm/engine.py:239: UserWarning: 'verbose_eval' argument is deprecated and will be removed in a future release of LightGBM. Pass 'log_evaluation()' callback via 'callbacks' argument instead.\n",
      "  _log_warning(\"'verbose_eval' argument is deprecated and will be removed in a future release of LightGBM. \"\n"
     ]
    },
    {
     "name": "stdout",
     "output_type": "stream",
     "text": [
      "[LightGBM] [Warning] Auto-choosing row-wise multi-threading, the overhead of testing was 0.298561 seconds.\n",
      "You can set `force_row_wise=true` to remove the overhead.\n",
      "And if memory is not enough, you can set `force_col_wise=true`.\n"
     ]
    },
    {
     "name": "stderr",
     "output_type": "stream",
     "text": [
      "/Users/dmitry/.conda/envs/hse_recsys/lib/python3.9/site-packages/lightgbm/basic.py:1780: UserWarning: Overriding the parameters from Reference Dataset.\n",
      "  _log_warning('Overriding the parameters from Reference Dataset.')\n",
      "/Users/dmitry/.conda/envs/hse_recsys/lib/python3.9/site-packages/lightgbm/basic.py:1513: UserWarning: categorical_column in param dict is overridden.\n",
      "  _log_warning(f'{cat_alias} in param dict is overridden.')\n"
     ]
    },
    {
     "name": "stdout",
     "output_type": "stream",
     "text": [
      "Training until validation scores don't improve for 25 rounds\n",
      "[5]\tvalid_0's mean_user_auc: 0.719839\n",
      "[10]\tvalid_0's mean_user_auc: 0.724062\n",
      "[15]\tvalid_0's mean_user_auc: 0.732708\n",
      "[20]\tvalid_0's mean_user_auc: 0.735819\n",
      "[25]\tvalid_0's mean_user_auc: 0.739101\n",
      "[30]\tvalid_0's mean_user_auc: 0.740427\n",
      "[35]\tvalid_0's mean_user_auc: 0.741621\n",
      "[40]\tvalid_0's mean_user_auc: 0.741122\n",
      "[45]\tvalid_0's mean_user_auc: 0.741359\n",
      "[50]\tvalid_0's mean_user_auc: 0.74114\n",
      "Did not meet early stopping. Best iteration is:\n",
      "[34]\tvalid_0's mean_user_auc: 0.741763\n"
     ]
    },
    {
     "name": "stderr",
     "output_type": "stream",
     "text": [
      "/Users/dmitry/.conda/envs/hse_recsys/lib/python3.9/site-packages/lightgbm/engine.py:177: UserWarning: Found `num_rounds` in params. Will use it instead of argument\n",
      "  _log_warning(f\"Found `{alias}` in params. Will use it instead of argument\")\n",
      "/Users/dmitry/.conda/envs/hse_recsys/lib/python3.9/site-packages/lightgbm/engine.py:181: UserWarning: 'early_stopping_rounds' argument is deprecated and will be removed in a future release of LightGBM. Pass 'early_stopping()' callback via 'callbacks' argument instead.\n",
      "  _log_warning(\"'early_stopping_rounds' argument is deprecated and will be removed in a future release of LightGBM. \"\n",
      "/Users/dmitry/.conda/envs/hse_recsys/lib/python3.9/site-packages/lightgbm/engine.py:239: UserWarning: 'verbose_eval' argument is deprecated and will be removed in a future release of LightGBM. Pass 'log_evaluation()' callback via 'callbacks' argument instead.\n",
      "  _log_warning(\"'verbose_eval' argument is deprecated and will be removed in a future release of LightGBM. \"\n"
     ]
    },
    {
     "name": "stdout",
     "output_type": "stream",
     "text": [
      "[LightGBM] [Warning] Auto-choosing row-wise multi-threading, the overhead of testing was 0.296045 seconds.\n",
      "You can set `force_row_wise=true` to remove the overhead.\n",
      "And if memory is not enough, you can set `force_col_wise=true`.\n"
     ]
    },
    {
     "name": "stderr",
     "output_type": "stream",
     "text": [
      "/Users/dmitry/.conda/envs/hse_recsys/lib/python3.9/site-packages/lightgbm/basic.py:1780: UserWarning: Overriding the parameters from Reference Dataset.\n",
      "  _log_warning('Overriding the parameters from Reference Dataset.')\n",
      "/Users/dmitry/.conda/envs/hse_recsys/lib/python3.9/site-packages/lightgbm/basic.py:1513: UserWarning: categorical_column in param dict is overridden.\n",
      "  _log_warning(f'{cat_alias} in param dict is overridden.')\n"
     ]
    },
    {
     "name": "stdout",
     "output_type": "stream",
     "text": [
      "Training until validation scores don't improve for 25 rounds\n",
      "[5]\tvalid_0's mean_user_auc: 0.718753\n",
      "[10]\tvalid_0's mean_user_auc: 0.724008\n",
      "[15]\tvalid_0's mean_user_auc: 0.730931\n",
      "[20]\tvalid_0's mean_user_auc: 0.733727\n",
      "[25]\tvalid_0's mean_user_auc: 0.73579\n",
      "[30]\tvalid_0's mean_user_auc: 0.737161\n",
      "[35]\tvalid_0's mean_user_auc: 0.737196\n",
      "[40]\tvalid_0's mean_user_auc: 0.737048\n",
      "[45]\tvalid_0's mean_user_auc: 0.736808\n",
      "[50]\tvalid_0's mean_user_auc: 0.735701\n",
      "Did not meet early stopping. Best iteration is:\n",
      "[31]\tvalid_0's mean_user_auc: 0.73746\n"
     ]
    },
    {
     "name": "stderr",
     "output_type": "stream",
     "text": [
      "/Users/dmitry/.conda/envs/hse_recsys/lib/python3.9/site-packages/lightgbm/engine.py:177: UserWarning: Found `num_rounds` in params. Will use it instead of argument\n",
      "  _log_warning(f\"Found `{alias}` in params. Will use it instead of argument\")\n",
      "/Users/dmitry/.conda/envs/hse_recsys/lib/python3.9/site-packages/lightgbm/engine.py:181: UserWarning: 'early_stopping_rounds' argument is deprecated and will be removed in a future release of LightGBM. Pass 'early_stopping()' callback via 'callbacks' argument instead.\n",
      "  _log_warning(\"'early_stopping_rounds' argument is deprecated and will be removed in a future release of LightGBM. \"\n",
      "/Users/dmitry/.conda/envs/hse_recsys/lib/python3.9/site-packages/lightgbm/engine.py:239: UserWarning: 'verbose_eval' argument is deprecated and will be removed in a future release of LightGBM. Pass 'log_evaluation()' callback via 'callbacks' argument instead.\n",
      "  _log_warning(\"'verbose_eval' argument is deprecated and will be removed in a future release of LightGBM. \"\n"
     ]
    },
    {
     "name": "stdout",
     "output_type": "stream",
     "text": [
      "[LightGBM] [Warning] Auto-choosing row-wise multi-threading, the overhead of testing was 0.315061 seconds.\n",
      "You can set `force_row_wise=true` to remove the overhead.\n",
      "And if memory is not enough, you can set `force_col_wise=true`.\n"
     ]
    },
    {
     "name": "stderr",
     "output_type": "stream",
     "text": [
      "/Users/dmitry/.conda/envs/hse_recsys/lib/python3.9/site-packages/lightgbm/basic.py:1780: UserWarning: Overriding the parameters from Reference Dataset.\n",
      "  _log_warning('Overriding the parameters from Reference Dataset.')\n",
      "/Users/dmitry/.conda/envs/hse_recsys/lib/python3.9/site-packages/lightgbm/basic.py:1513: UserWarning: categorical_column in param dict is overridden.\n",
      "  _log_warning(f'{cat_alias} in param dict is overridden.')\n"
     ]
    },
    {
     "name": "stdout",
     "output_type": "stream",
     "text": [
      "Training until validation scores don't improve for 25 rounds\n",
      "[5]\tvalid_0's mean_user_auc: 0.70812\n",
      "[10]\tvalid_0's mean_user_auc: 0.714628\n",
      "[15]\tvalid_0's mean_user_auc: 0.723256\n",
      "[20]\tvalid_0's mean_user_auc: 0.72421\n",
      "[25]\tvalid_0's mean_user_auc: 0.726498\n",
      "[30]\tvalid_0's mean_user_auc: 0.726801\n",
      "[35]\tvalid_0's mean_user_auc: 0.727094\n",
      "[40]\tvalid_0's mean_user_auc: 0.725662\n",
      "[45]\tvalid_0's mean_user_auc: 0.726031\n",
      "[50]\tvalid_0's mean_user_auc: 0.725579\n",
      "Did not meet early stopping. Best iteration is:\n",
      "[37]\tvalid_0's mean_user_auc: 0.727483\n"
     ]
    },
    {
     "name": "stderr",
     "output_type": "stream",
     "text": [
      "/Users/dmitry/.conda/envs/hse_recsys/lib/python3.9/site-packages/lightgbm/engine.py:177: UserWarning: Found `num_rounds` in params. Will use it instead of argument\n",
      "  _log_warning(f\"Found `{alias}` in params. Will use it instead of argument\")\n",
      "/Users/dmitry/.conda/envs/hse_recsys/lib/python3.9/site-packages/lightgbm/engine.py:181: UserWarning: 'early_stopping_rounds' argument is deprecated and will be removed in a future release of LightGBM. Pass 'early_stopping()' callback via 'callbacks' argument instead.\n",
      "  _log_warning(\"'early_stopping_rounds' argument is deprecated and will be removed in a future release of LightGBM. \"\n",
      "/Users/dmitry/.conda/envs/hse_recsys/lib/python3.9/site-packages/lightgbm/engine.py:239: UserWarning: 'verbose_eval' argument is deprecated and will be removed in a future release of LightGBM. Pass 'log_evaluation()' callback via 'callbacks' argument instead.\n",
      "  _log_warning(\"'verbose_eval' argument is deprecated and will be removed in a future release of LightGBM. \"\n"
     ]
    },
    {
     "name": "stdout",
     "output_type": "stream",
     "text": [
      "[LightGBM] [Warning] Auto-choosing row-wise multi-threading, the overhead of testing was 0.328360 seconds.\n",
      "You can set `force_row_wise=true` to remove the overhead.\n",
      "And if memory is not enough, you can set `force_col_wise=true`.\n"
     ]
    },
    {
     "name": "stderr",
     "output_type": "stream",
     "text": [
      "/Users/dmitry/.conda/envs/hse_recsys/lib/python3.9/site-packages/lightgbm/basic.py:1780: UserWarning: Overriding the parameters from Reference Dataset.\n",
      "  _log_warning('Overriding the parameters from Reference Dataset.')\n",
      "/Users/dmitry/.conda/envs/hse_recsys/lib/python3.9/site-packages/lightgbm/basic.py:1513: UserWarning: categorical_column in param dict is overridden.\n",
      "  _log_warning(f'{cat_alias} in param dict is overridden.')\n"
     ]
    },
    {
     "name": "stdout",
     "output_type": "stream",
     "text": [
      "Training until validation scores don't improve for 25 rounds\n",
      "[5]\tvalid_0's mean_user_auc: 0.718155\n",
      "[10]\tvalid_0's mean_user_auc: 0.722146\n",
      "[15]\tvalid_0's mean_user_auc: 0.72897\n",
      "[20]\tvalid_0's mean_user_auc: 0.730036\n",
      "[25]\tvalid_0's mean_user_auc: 0.73011\n",
      "[30]\tvalid_0's mean_user_auc: 0.731057\n",
      "[35]\tvalid_0's mean_user_auc: 0.730636\n",
      "[40]\tvalid_0's mean_user_auc: 0.730623\n",
      "[45]\tvalid_0's mean_user_auc: 0.729322\n",
      "Early stopping, best iteration is:\n",
      "[24]\tvalid_0's mean_user_auc: 0.732359\n"
     ]
    }
   ],
   "source": [
    "preds, models, test_sets = train_lgb_w2v_blend(sorted_df, params)"
   ]
  },
  {
   "cell_type": "code",
   "execution_count": 19,
   "id": "8fe59a66",
   "metadata": {},
   "outputs": [
    {
     "data": {
      "text/plain": [
       "0.6971886484476418"
      ]
     },
     "execution_count": 19,
     "metadata": {},
     "output_type": "execute_result"
    }
   ],
   "source": [
    "# OOF ROC-AUC\n",
    "roc_auc_score(y, preds)"
   ]
  },
  {
   "cell_type": "code",
   "execution_count": 20,
   "id": "07b05125",
   "metadata": {},
   "outputs": [
    {
     "data": {
      "text/plain": [
       "0.733000447851424"
      ]
     },
     "execution_count": 20,
     "metadata": {},
     "output_type": "execute_result"
    }
   ],
   "source": [
    "# Mean User ROC-AUC\n",
    "mean_user_auc(y, preds, sorted_df.groupby('msno')['song_id'].count().tolist())"
   ]
  },
  {
   "cell_type": "markdown",
   "id": "4a1b35e5",
   "metadata": {},
   "source": [
    "Блендингом Word2Vec-а с LGBM, удалось улучшить обе метрики"
   ]
  },
  {
   "cell_type": "code",
   "execution_count": 21,
   "id": "4bd34b44",
   "metadata": {},
   "outputs": [],
   "source": [
    "import shap"
   ]
  },
  {
   "cell_type": "code",
   "execution_count": 22,
   "id": "a463407f",
   "metadata": {},
   "outputs": [],
   "source": [
    "explainer = shap.TreeExplainer(models[0][0])"
   ]
  },
  {
   "cell_type": "code",
   "execution_count": 23,
   "id": "79aa9226",
   "metadata": {},
   "outputs": [],
   "source": [
    "out = explainer.shap_values(*test_sets[0])"
   ]
  },
  {
   "cell_type": "code",
   "execution_count": 24,
   "id": "98e82fba",
   "metadata": {},
   "outputs": [
    {
     "data": {
      "image/png": "[encoded data removed]",
      "text/plain": [
       "<Figure size 576x684 with 2 Axes>"
      ]
     },
     "metadata": {
      "needs_background": "light"
     },
     "output_type": "display_data"
    }
   ],
   "source": [
    "shap.summary_plot(out, test_sets[0][0])"
   ]
  },
  {
   "cell_type": "markdown",
   "id": "61a18d9b",
   "metadata": {},
   "source": [
    "Хотел посчитать out-of-fold shap values, но, к сожалению, это занимает очень много времени, поэтому оставлю для одного фолда. Вряд ли мы увидим сильно отличающиеся результаты на остальных фолдах, так как у нас немного фич и метрики на фолдах довольно близки"
   ]
  },
  {
   "cell_type": "markdown",
   "id": "6bba1849",
   "metadata": {},
   "source": [
    "Видно, что предсказание Word2Vec полезно, так как оно стало самой важной фичей. Опять же, скорее всего, потому что фичи для LGBM и фичи из Word2Vec сильно отличаются, а значит последние докидывают информацию "
   ]
  }
 ],
 "metadata": {
  "kernelspec": {
   "display_name": "PyCharm (hse_recsys)",
   "language": "python",
   "name": "pycharm-ecd2752e"
  },
  "language_info": {
   "codemirror_mode": {
    "name": "ipython",
    "version": 3
   },
   "file_extension": ".py",
   "mimetype": "text/x-python",
   "name": "python",
   "nbconvert_exporter": "python",
   "pygments_lexer": "ipython3",
   "version": "3.9.7"
  }
 },
 "nbformat": 4,
 "nbformat_minor": 5
}
