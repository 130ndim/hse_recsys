{
 "cells": [
  {
   "cell_type": "code",
   "execution_count": 1,
   "metadata": {},
   "outputs": [],
   "source": [
    "import gc\n",
    "\n",
    "import re\n",
    "\n",
    "import numpy as np\n",
    "import pandas as pd"
   ]
  },
  {
   "cell_type": "markdown",
   "metadata": {},
   "source": [
    "## Featurization"
   ]
  },
  {
   "cell_type": "code",
   "execution_count": 2,
   "metadata": {},
   "outputs": [],
   "source": [
    "train = pd.read_csv('./data/train.csv')\n",
    "members = pd.read_csv('./data/members.csv')\n",
    "songs = pd.read_csv('./data/songs.csv')\n",
    "song_extra_info = pd.read_csv('./data/song_extra_info.csv')"
   ]
  },
  {
   "cell_type": "code",
   "execution_count": 3,
   "metadata": {},
   "outputs": [],
   "source": [
    "songs = songs.merge(song_extra_info, on='song_id', how='left')"
   ]
  },
  {
   "cell_type": "code",
   "execution_count": 4,
   "metadata": {},
   "outputs": [
    {
     "data": {
      "text/plain": [
       "0"
      ]
     },
     "execution_count": 4,
     "metadata": {},
     "output_type": "execute_result"
    }
   ],
   "source": [
    "del song_extra_info\n",
    "gc.collect()"
   ]
  },
  {
   "cell_type": "code",
   "execution_count": 5,
   "metadata": {},
   "outputs": [],
   "source": [
    "# For getting nth genre/artist/composer/lyricist with possible missing values\n",
    "def get_nth(list_, n):\n",
    "    if len(list_) < n + 1:\n",
    "        return '__MISSING__'\n",
    "    return list_[n]"
   ]
  },
  {
   "cell_type": "code",
   "execution_count": 6,
   "metadata": {},
   "outputs": [],
   "source": [
    "def featurize_songs(songs):\n",
    "    songs['song_id'] = songs['song_id'].astype('category')\n",
    "    songs['song_length'] = songs['song_length'].astype(np.int32)\n",
    "    \n",
    "    # Compile splitting pattern (I hope it covers all the cases)\n",
    "    split_pattern = re.compile('[\\/\\\\\\|\\;]+\\W*')\n",
    "    \n",
    "    songs.rename({'genre_ids': 'genre_id'}, axis=1, inplace=True)\n",
    "    cols_to_drop = ['name', 'isrc']\n",
    "    \n",
    "    # Get 1st, 2nd, 3rd id/name and count and convert it to \"category\" dtype\n",
    "    for col in ('genre_id', 'artist_name', 'composer', 'lyricist'):\n",
    "        cols_to_drop.append(col)\n",
    "        songs[col] = songs[col].fillna('__MISSING__')\n",
    "        songs['1st_' + col] = songs[col].apply(\n",
    "            lambda x: get_nth(re.split(split_pattern, x), 0)\n",
    "        ).astype('category')\n",
    "        songs['2nd_' + col] = songs[col].apply(\n",
    "            lambda x: get_nth(re.split(split_pattern, x), 1)\n",
    "        ).astype('category')\n",
    "        songs['3rd_' + col] = songs[col].apply(\n",
    "            lambda x: get_nth(re.split(split_pattern, x), 2)\n",
    "        ).astype('category')\n",
    "        songs['n_' + col + 's'] = songs[col].apply(\n",
    "            lambda x: len(re.split(split_pattern, x))\n",
    "        )\n",
    "        songs['n_' + col + 's'] -= (songs[col] == '__MISSING__')\n",
    "        songs['n_' + col + 's'] = songs['n_' + col + 's'].astype(np.uint8)\n",
    "    \n",
    "    # https://en.wikipedia.org/wiki/International_Standard_Recording_Code\n",
    "    songs['isrc'] = songs['isrc'].astype(str)\n",
    "    songs['country_code'] = songs['isrc'].apply(\n",
    "        lambda x: x[:2] if x != 'nan' else '__MISSING__'\n",
    "    ).astype('category')\n",
    "    songs['registrant_code'] = songs['isrc'].apply(\n",
    "        lambda x: x[2:5] if x != 'nan' else '__MISSING__'\n",
    "    ).astype('category')\n",
    "    songs['year_of_reference'] = songs['isrc'].apply(\n",
    "        lambda x: x[5:7] if x != 'nan' else '__MISSING__'\n",
    "    ).astype('category')\n",
    "    songs['designation_code'] = songs['isrc'].apply(\n",
    "        lambda x: x[7:] if x != 'nan' else '__MISSING__'\n",
    "    ).astype('category')\n",
    "    \n",
    "    # Make labels start from 0 for LightGBM\n",
    "    songs['language'] = (songs['language'].fillna(-1) + 1).astype(np.uint8)\n",
    "\n",
    "    songs.drop(cols_to_drop, axis=1, inplace=True)\n",
    "    "
   ]
  },
  {
   "cell_type": "code",
   "execution_count": 7,
   "metadata": {},
   "outputs": [],
   "source": [
    "def featurize_members(members):\n",
    "    cols_to_drop = ['bd']\n",
    "    # Age binning to 5 groups, outlier removal\n",
    "    members['age_group'] = np.digitize(members['bd'], [18, 30, 50]).astype(np.uint8)\n",
    "    # Replace NaNs\n",
    "    members['gender'] = members['gender'].fillna('__MISSING__')\n",
    "    \n",
    "    # Convert to \"category\" dtype\n",
    "    for col in ['msno', 'city', 'gender', 'registered_via']:\n",
    "        members[col] = members[col].astype('category')\n",
    "    \n",
    "    # Keep year only to prevent overfitting\n",
    "    for col in ['registration_init_time', 'expiration_date']:\n",
    "        cols_to_drop.append(col)\n",
    "        members[col.split('_', 1)[0]] = (members[col] // 1e4).astype(np.uint16)\n",
    "        \n",
    "    members.drop(cols_to_drop, axis=1, inplace=True)"
   ]
  },
  {
   "cell_type": "code",
   "execution_count": 8,
   "metadata": {},
   "outputs": [],
   "source": [
    "def featurize_train(train):\n",
    "    # Fill NaNs and downcast dtypes\n",
    "    cols = ['msno', 'song_id', 'source_system_tab', 'source_screen_name', 'source_type']\n",
    "    train[cols] = train[cols].fillna('__MISSING__').astype('category')\n",
    "    train['target'] = train['target'].astype(np.uint8)"
   ]
  },
  {
   "cell_type": "code",
   "execution_count": 9,
   "metadata": {},
   "outputs": [],
   "source": [
    "featurize_songs(songs)\n",
    "featurize_members(members)"
   ]
  },
  {
   "cell_type": "code",
   "execution_count": 10,
   "metadata": {},
   "outputs": [],
   "source": [
    "train = train.merge(songs, on='song_id', how='left').merge(members, on='msno', how='left')"
   ]
  },
  {
   "cell_type": "code",
   "execution_count": 11,
   "metadata": {},
   "outputs": [
    {
     "data": {
      "text/plain": [
       "0"
      ]
     },
     "execution_count": 11,
     "metadata": {},
     "output_type": "execute_result"
    }
   ],
   "source": [
    "del songs, members\n",
    "gc.collect()"
   ]
  },
  {
   "cell_type": "code",
   "execution_count": 12,
   "metadata": {},
   "outputs": [],
   "source": [
    "featurize_train(train)"
   ]
  },
  {
   "cell_type": "code",
   "execution_count": 13,
   "metadata": {},
   "outputs": [],
   "source": [
    "target = train['target']\n",
    "del train['target']\n",
    "train['target'] = target"
   ]
  },
  {
   "cell_type": "code",
   "execution_count": 28,
   "metadata": {},
   "outputs": [],
   "source": [
    "train.dropna(inplace=True)"
   ]
  },
  {
   "cell_type": "code",
   "execution_count": 37,
   "metadata": {},
   "outputs": [],
   "source": [
    "train['song_length'] = train['song_length'].astype(np.uint32)\n",
    "\n",
    "cols = ['language', 'n_genre_ids', 'n_artist_names', 'n_composers', 'n_lyricists']\n",
    "train[cols] = train[cols].astype(np.uint8)"
   ]
  },
  {
   "cell_type": "code",
   "execution_count": 40,
   "metadata": {},
   "outputs": [
    {
     "data": {
      "text/plain": [
       "0"
      ]
     },
     "execution_count": 40,
     "metadata": {},
     "output_type": "execute_result"
    }
   ],
   "source": [
    "train.duplicated().sum()  # duplicates check"
   ]
  },
  {
   "cell_type": "code",
   "execution_count": 42,
   "metadata": {},
   "outputs": [],
   "source": [
    "# dtypes change after merge\n",
    "train[['msno', 'song_id']] = train[['msno', 'song_id']].astype('category')"
   ]
  },
  {
   "cell_type": "code",
   "execution_count": 43,
   "metadata": {},
   "outputs": [
    {
     "name": "stdout",
     "output_type": "stream",
     "text": [
      "<class 'pandas.core.frame.DataFrame'>\n",
      "Int64Index: 7377304 entries, 0 to 7377417\n",
      "Data columns (total 34 columns):\n",
      " #   Column              Dtype   \n",
      "---  ------              -----   \n",
      " 0   msno                category\n",
      " 1   song_id             category\n",
      " 2   source_system_tab   category\n",
      " 3   source_screen_name  category\n",
      " 4   source_type         category\n",
      " 5   song_length         uint32  \n",
      " 6   language            uint8   \n",
      " 7   1st_genre_id        category\n",
      " 8   2nd_genre_id        category\n",
      " 9   3rd_genre_id        category\n",
      " 10  n_genre_ids         uint8   \n",
      " 11  1st_artist_name     category\n",
      " 12  2nd_artist_name     category\n",
      " 13  3rd_artist_name     category\n",
      " 14  n_artist_names      uint8   \n",
      " 15  1st_composer        category\n",
      " 16  2nd_composer        category\n",
      " 17  3rd_composer        category\n",
      " 18  n_composers         uint8   \n",
      " 19  1st_lyricist        category\n",
      " 20  2nd_lyricist        category\n",
      " 21  3rd_lyricist        category\n",
      " 22  n_lyricists         uint8   \n",
      " 23  country_code        category\n",
      " 24  registrant_code     category\n",
      " 25  year_of_reference   category\n",
      " 26  designation_code    category\n",
      " 27  city                category\n",
      " 28  gender              category\n",
      " 29  registered_via      category\n",
      " 30  age_group           uint8   \n",
      " 31  registration        uint16  \n",
      " 32  expiration          uint16  \n",
      " 33  target              uint8   \n",
      "dtypes: category(24), uint16(2), uint32(1), uint8(7)\n",
      "memory usage: 594.2 MB\n"
     ]
    }
   ],
   "source": [
    "# Processed dataset: 32 features and 1 target\n",
    "train.info()"
   ]
  },
  {
   "cell_type": "code",
   "execution_count": 44,
   "metadata": {},
   "outputs": [],
   "source": [
    "# Save featurized dataset as parquet to save dtypes info\n",
    "train.to_parquet('./data/featurized.parquet')"
   ]
  },
  {
   "cell_type": "code",
   "execution_count": null,
   "metadata": {},
   "outputs": [],
   "source": []
  }
 ],
 "metadata": {
  "kernelspec": {
   "display_name": "PyCharm (hse_recsys)",
   "language": "python",
   "name": "pycharm-ecd2752e"
  },
  "language_info": {
   "codemirror_mode": {
    "name": "ipython",
    "version": 3
   },
   "file_extension": ".py",
   "mimetype": "text/x-python",
   "name": "python",
   "nbconvert_exporter": "python",
   "pygments_lexer": "ipython3",
   "version": "3.9.7"
  }
 },
 "nbformat": 4,
 "nbformat_minor": 1
}
